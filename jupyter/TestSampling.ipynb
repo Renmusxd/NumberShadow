{
 "cells": [
  {
   "cell_type": "code",
   "execution_count": 1,
   "id": "f5969fa9",
   "metadata": {},
   "outputs": [],
   "source": [
    "import shadow_reconstruction\n",
    "import qutip as qt\n",
    "import numpy\n",
    "from matplotlib import pyplot\n",
    "import os"
   ]
  },
  {
   "cell_type": "code",
   "execution_count": 2,
   "id": "e1f74543",
   "metadata": {},
   "outputs": [],
   "source": [
    "def make_perms(n):\n",
    "    return itertools.permutations(numpy.arange(n))\n",
    "\n",
    "def gen_cliffords():\n",
    "    yield from qt.qubit_clifford_group()\n",
    "\n",
    "\n",
    "def get_num_cons_cliffords():\n",
    "    def f(x):\n",
    "        y = numpy.eye(4, dtype=numpy.complex128)\n",
    "        y[1:3, 1:3] = x\n",
    "        return y\n",
    "    return {\n",
    "        k: f(v.__array__()) for k, v in enumerate(gen_cliffords())\n",
    "    }"
   ]
  },
  {
   "cell_type": "code",
   "execution_count": 3,
   "id": "b4af8935",
   "metadata": {},
   "outputs": [
    {
     "name": "stderr",
     "output_type": "stream",
     "text": [
      "/var/folders/xx/cyn56y8j4l198w4cbbcv3pp80000gn/T/ipykernel_40895/2038288818.py:5: DeprecationWarning: Importing functions/classes of the qip submodule directly from the namespace qutip is deprecated. Please import them from the submodule instead, e.g.\n",
      "from qutip.qip.operations import cnot\n",
      "from qutip.qip.circuit import QubitCircuit\n",
      "\n",
      "  yield from qt.qubit_clifford_group()\n"
     ]
    }
   ],
   "source": [
    "cliffords = numpy.array(list(get_num_cons_cliffords().values()))"
   ]
  },
  {
   "cell_type": "markdown",
   "id": "c8e4c940",
   "metadata": {},
   "source": [
    "# Simple to start\n",
    "\n",
    "$$ \\vert \\psi \\rangle = \\frac{|01\\rangle + |10\\rangle}{\\sqrt{2}}$$"
   ]
  },
  {
   "cell_type": "code",
   "execution_count": 4,
   "id": "712ee54e",
   "metadata": {},
   "outputs": [
    {
     "data": {
      "image/png": "[encoded data removed]",
      "text/plain": [
       "<Figure size 640x480 with 1 Axes>"
      ]
     },
     "metadata": {},
     "output_type": "display_data"
    },
    {
     "name": "stdout",
     "output_type": "stream",
     "text": [
      "0.9999999999999998\n"
     ]
    }
   ],
   "source": [
    "zz = numpy.array([[0.,1.,1.,0.]])\n",
    "zz /= numpy.linalg.norm(zz)\n",
    "\n",
    "rho = zz.T @ zz\n",
    "pyplot.imshow(rho)\n",
    "pyplot.show()\n",
    "\n",
    "print(numpy.trace(rho))\n",
    "rho = shadow_reconstruction.DensityMatrix.new_mixed_sparse(rho.astype(numpy.complex128))"
   ]
  },
  {
   "cell_type": "code",
   "execution_count": 5,
   "id": "2e8df271",
   "metadata": {},
   "outputs": [],
   "source": [
    "# rho = shadow_reconstruction.DensityMatrix.new_pure_dense(zz[0,:].astype(numpy.complex128))"
   ]
  },
  {
   "cell_type": "code",
   "execution_count": 6,
   "id": "9dc2d29d",
   "metadata": {},
   "outputs": [],
   "source": [
    "exp = shadow_reconstruction.Experiment(2, ops=cliffords)"
   ]
  },
  {
   "cell_type": "code",
   "execution_count": 7,
   "id": "6683f801",
   "metadata": {},
   "outputs": [
    {
     "name": "stdout",
     "output_type": "stream",
     "text": [
      "Sampling...\n"
     ]
    }
   ],
   "source": [
    "if os.path.exists('samples_pure.dat'):\n",
    "    print(\"Loading...\")\n",
    "    samples = shadow_reconstruction.Samples.load_from('samples.dat')\n",
    "else:\n",
    "    print(\"Sampling...\")\n",
    "    samples = exp.sample(rho, 1000)\n",
    "    samples.save_to('samples.dat')"
   ]
  },
  {
   "cell_type": "code",
   "execution_count": 8,
   "id": "d9b74f38",
   "metadata": {},
   "outputs": [],
   "source": [
    "recon = shadow_reconstruction.Reconstruction(ops=cliffords)"
   ]
  },
  {
   "cell_type": "code",
   "execution_count": 9,
   "id": "00b57172",
   "metadata": {},
   "outputs": [
    {
     "data": {
      "text/plain": [
       "(-1+0j)"
      ]
     },
     "execution_count": 9,
     "metadata": {},
     "output_type": "execute_result"
    }
   ],
   "source": [
    "recon.estimate_operator_string(\"ZZ\", samples)"
   ]
  },
  {
   "cell_type": "code",
   "execution_count": 10,
   "id": "ccbb48fe",
   "metadata": {},
   "outputs": [
    {
     "data": {
      "text/plain": [
       "(0.5144999999999998-0.03599999999999999j)"
      ]
     },
     "execution_count": 10,
     "metadata": {},
     "output_type": "execute_result"
    }
   ],
   "source": [
    "recon.estimate_operator_string(\"+-\", samples)"
   ]
  },
  {
   "cell_type": "code",
   "execution_count": 11,
   "id": "7c7d67bd",
   "metadata": {},
   "outputs": [
    {
     "data": {
      "text/plain": [
       "(0.5144999999999998+0.03599999999999999j)"
      ]
     },
     "execution_count": 11,
     "metadata": {},
     "output_type": "execute_result"
    }
   ],
   "source": [
    "recon.estimate_operator_string(\"-+\", samples)"
   ]
  },
  {
   "cell_type": "markdown",
   "id": "4581c498",
   "metadata": {},
   "source": [
    "# Bigger\n",
    "\n",
    "$$|\\psi\\rangle = \\frac{|1000> + |0001>}{\\sqrt{2}}$$"
   ]
  },
  {
   "cell_type": "code",
   "execution_count": 12,
   "id": "883a88e0",
   "metadata": {},
   "outputs": [
    {
     "name": "stdout",
     "output_type": "stream",
     "text": [
      "(0.9999999999999998+0j)\n"
     ]
    }
   ],
   "source": [
    "# (01 + 10)00\n",
    "zz = numpy.zeros((1, 1<<4), dtype=numpy.complex128)\n",
    "zz[0, 0b1000] = 1.0\n",
    "zz[0, 0b0001] = 1.0\n",
    "zz /= numpy.linalg.norm(zz)\n",
    "rho = zz.T @ zz\n",
    "print(numpy.trace(rho))\n",
    "rho /= numpy.trace(rho)\n",
    "rho = shadow_reconstruction.DensityMatrix.new_mixed_sparse(rho.astype(numpy.complex128))"
   ]
  },
  {
   "cell_type": "code",
   "execution_count": 13,
   "id": "6a495f8c",
   "metadata": {},
   "outputs": [],
   "source": [
    "rho = shadow_reconstruction.DensityMatrix.new_pure_dense(zz[0,:].astype(numpy.complex128))"
   ]
  },
  {
   "cell_type": "code",
   "execution_count": 14,
   "id": "c1b03600",
   "metadata": {},
   "outputs": [],
   "source": [
    "# exp = shadow_reconstruction.Experiment(4, ops=cliffords[0:1,:,:]) #, perms=numpy.array([[0,1,2,3]]).astype(numpy.uint64))\n",
    "exp = shadow_reconstruction.Experiment(4, ops=cliffords)"
   ]
  },
  {
   "cell_type": "code",
   "execution_count": 15,
   "id": "23731d39",
   "metadata": {},
   "outputs": [
    {
     "name": "stdout",
     "output_type": "stream",
     "text": [
      "Loading...\n"
     ]
    }
   ],
   "source": [
    "if os.path.exists('larger_samples_pure.dat'):\n",
    "    print(\"Loading...\")\n",
    "    samples = shadow_reconstruction.Samples.load_from('larger_samples_pure.dat')\n",
    "else:\n",
    "    print(\"Sampling...\")\n",
    "    samples = exp.sample(rho, 10000)\n",
    "    print(\"Saving...\")\n",
    "    samples.save_to('larger_samples_pure.dat')"
   ]
  },
  {
   "cell_type": "code",
   "execution_count": 16,
   "id": "9c059b73",
   "metadata": {},
   "outputs": [],
   "source": [
    "recon = shadow_reconstruction.Reconstruction(ops=cliffords)"
   ]
  },
  {
   "cell_type": "code",
   "execution_count": 17,
   "id": "1fd455e1",
   "metadata": {},
   "outputs": [
    {
     "data": {
      "text/plain": [
       "((0.5103697024346255+0.02164111812443643j), (0.4999999999999999+0j))"
      ]
     },
     "execution_count": 17,
     "metadata": {},
     "output_type": "execute_result"
    }
   ],
   "source": [
    "recon.estimate_operator_string(\"-II+\", samples), rho.expectation_string('-II+')"
   ]
  },
  {
   "cell_type": "code",
   "execution_count": 18,
   "id": "1b8ecb50",
   "metadata": {},
   "outputs": [
    {
     "data": {
      "text/plain": [
       "((-1+0j), (-0.9999999999999998+0j))"
      ]
     },
     "execution_count": 18,
     "metadata": {},
     "output_type": "execute_result"
    }
   ],
   "source": [
    "recon.estimate_operator_string(\"ZIIZ\", samples), rho.expectation_string('ZIIZ')"
   ]
  },
  {
   "cell_type": "code",
   "execution_count": 19,
   "id": "da2f039f",
   "metadata": {},
   "outputs": [
    {
     "data": {
      "text/plain": [
       "((-1+0j), (-0.9999999999999998+0j))"
      ]
     },
     "execution_count": 19,
     "metadata": {},
     "output_type": "execute_result"
    }
   ],
   "source": [
    "recon.estimate_operator_string(\"ZZZZ\", samples), rho.expectation_string('ZZZZ')"
   ]
  },
  {
   "cell_type": "code",
   "execution_count": 20,
   "id": "71c4fe69",
   "metadata": {},
   "outputs": [
    {
     "data": {
      "text/plain": [
       "((0.5103697024346258+0.02164111812443643j), (0.4999999999999999+0j))"
      ]
     },
     "execution_count": 20,
     "metadata": {},
     "output_type": "execute_result"
    }
   ],
   "source": [
    "recon.filter_estimate_operator_string(\"-II+\", samples), rho.expectation_string('-II+')"
   ]
  },
  {
   "cell_type": "code",
   "execution_count": 21,
   "id": "077ab570",
   "metadata": {},
   "outputs": [
    {
     "data": {
      "text/plain": [
       "((0.01584666465439179+0.017204950196196802j), 0j)"
      ]
     },
     "execution_count": 21,
     "metadata": {},
     "output_type": "execute_result"
    }
   ],
   "source": [
    "recon.filter_estimate_operator_string(\"II-+\", samples), rho.expectation_string('II-+')"
   ]
  },
  {
   "cell_type": "code",
   "execution_count": 22,
   "id": "1590c71d",
   "metadata": {},
   "outputs": [
    {
     "data": {
      "text/plain": [
       "((-1+0j), (-0.9999999999999998+0j))"
      ]
     },
     "execution_count": 22,
     "metadata": {},
     "output_type": "execute_result"
    }
   ],
   "source": [
    "recon.filter_estimate_operator_string(\"ZIIZ\", samples), rho.expectation_string('ZIIZ')"
   ]
  },
  {
   "cell_type": "code",
   "execution_count": 23,
   "id": "98089c84",
   "metadata": {},
   "outputs": [
    {
     "data": {
      "text/plain": [
       "((-1+0j), (-0.9999999999999998+0j))"
      ]
     },
     "execution_count": 23,
     "metadata": {},
     "output_type": "execute_result"
    }
   ],
   "source": [
    "recon.filter_estimate_operator_string(\"ZZZZ\", samples), rho.expectation_string('ZZZZ')"
   ]
  },
  {
   "cell_type": "code",
   "execution_count": null,
   "id": "0cd38895",
   "metadata": {},
   "outputs": [],
   "source": []
  }
 ],
 "metadata": {
  "kernelspec": {
   "display_name": "Python 3 (ipykernel)",
   "language": "python",
   "name": "python3"
  },
  "language_info": {
   "codemirror_mode": {
    "name": "ipython",
    "version": 3
   },
   "file_extension": ".py",
   "mimetype": "text/x-python",
   "name": "python",
   "nbconvert_exporter": "python",
   "pygments_lexer": "ipython3",
   "version": "3.11.2"
  }
 },
 "nbformat": 4,
 "nbformat_minor": 5
}
