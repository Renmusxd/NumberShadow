{
 "cells": [
  {
   "cell_type": "code",
   "execution_count": 1,
   "id": "f5969fa9",
   "metadata": {},
   "outputs": [],
   "source": [
    "import shadow_reconstruction\n",
    "import qutip as qt\n",
    "import numpy\n",
    "from matplotlib import pyplot\n",
    "import os"
   ]
  },
  {
   "cell_type": "code",
   "execution_count": 2,
   "id": "e1f74543",
   "metadata": {},
   "outputs": [],
   "source": [
    "def make_perms(n):\n",
    "    return itertools.permutations(numpy.arange(n))\n",
    "\n",
    "def gen_cliffords():\n",
    "    yield from qt.qubit_clifford_group()\n",
    "\n",
    "\n",
    "def get_num_cons_cliffords():\n",
    "    def f(x):\n",
    "        y = numpy.eye(4, dtype=numpy.complex128)\n",
    "        y[1:3, 1:3] = x\n",
    "        return y\n",
    "    return {\n",
    "        k: f(v.__array__()) for k, v in enumerate(gen_cliffords())\n",
    "    }"
   ]
  },
  {
   "cell_type": "code",
   "execution_count": 3,
   "id": "b4af8935",
   "metadata": {},
   "outputs": [
    {
     "name": "stderr",
     "output_type": "stream",
     "text": [
      "/tmp/ipykernel_106278/2038288818.py:5: DeprecationWarning: Importing functions/classes of the qip submodule directly from the namespace qutip is deprecated. Please import them from the submodule instead, e.g.\n",
      "from qutip.qip.operations import cnot\n",
      "from qutip.qip.circuit import QubitCircuit\n",
      "\n",
      "  yield from qt.qubit_clifford_group()\n"
     ]
    }
   ],
   "source": [
    "cliffords = numpy.array(list(get_num_cons_cliffords().values()))"
   ]
  },
  {
   "cell_type": "markdown",
   "id": "c8e4c940",
   "metadata": {},
   "source": [
    "# Simple to start\n",
    "\n",
    "$$ \\vert \\psi \\rangle = \\frac{|01\\rangle + |10\\rangle}{\\sqrt{2}}$$"
   ]
  },
  {
   "cell_type": "code",
   "execution_count": 4,
   "id": "712ee54e",
   "metadata": {},
   "outputs": [
    {
     "name": "stdout",
     "output_type": "stream",
     "text": [
      "0.9999999999999998\n"
     ]
    }
   ],
   "source": [
    "zz = numpy.array([[0.,1.,1.,0.]])\n",
    "zz /= numpy.linalg.norm(zz)\n",
    "\n",
    "rho = zz.T @ zz\n",
    "# pyplot.imshow(rho)\n",
    "# pyplot.show()\n",
    "\n",
    "print(numpy.trace(rho))\n",
    "rho = shadow_reconstruction.DensityMatrix.new_mixed_sparse(rho.astype(numpy.complex128))"
   ]
  },
  {
   "cell_type": "code",
   "execution_count": 5,
   "id": "2e8df271",
   "metadata": {},
   "outputs": [],
   "source": [
    "# rho = shadow_reconstruction.DensityMatrix.new_pure_dense(zz[0,:].astype(numpy.complex128))"
   ]
  },
  {
   "cell_type": "code",
   "execution_count": 6,
   "id": "9dc2d29d",
   "metadata": {},
   "outputs": [],
   "source": [
    "# exp = shadow_reconstruction.Experiment(2, ops=cliffords)"
   ]
  },
  {
   "cell_type": "code",
   "execution_count": 7,
   "id": "72f4be2f",
   "metadata": {},
   "outputs": [],
   "source": [
    "# exp.sample(rho, 10)"
   ]
  },
  {
   "cell_type": "code",
   "execution_count": 8,
   "id": "6683f801",
   "metadata": {},
   "outputs": [],
   "source": [
    "# if os.path.exists('samples_pure.dat'):\n",
    "#     print(\"Loading...\")\n",
    "#     samples = shadow_reconstruction.Samples.load_from('samples.dat')\n",
    "# else:\n",
    "#     print(\"Sampling...\")\n",
    "#     samples = exp.sample(rho, 1000)\n",
    "#     samples.save_to('samples.dat')"
   ]
  },
  {
   "cell_type": "code",
   "execution_count": 9,
   "id": "d9b74f38",
   "metadata": {},
   "outputs": [],
   "source": [
    "# recon = shadow_reconstruction.Reconstruction()"
   ]
  },
  {
   "cell_type": "code",
   "execution_count": 10,
   "id": "00b57172",
   "metadata": {},
   "outputs": [],
   "source": [
    "# recon.estimate_operator_string(\"ZZ\", samples)"
   ]
  },
  {
   "cell_type": "code",
   "execution_count": 11,
   "id": "ccbb48fe",
   "metadata": {},
   "outputs": [],
   "source": [
    "# recon.estimate_operator_string(\"+-\", samples)"
   ]
  },
  {
   "cell_type": "code",
   "execution_count": 12,
   "id": "7c7d67bd",
   "metadata": {},
   "outputs": [],
   "source": [
    "# recon.estimate_operator_string(\"-+\", samples)"
   ]
  },
  {
   "cell_type": "markdown",
   "id": "4581c498",
   "metadata": {},
   "source": [
    "# Bigger\n",
    "\n",
    "$$|\\psi\\rangle = \\frac{|1000> + |0001>}{\\sqrt{2}}$$"
   ]
  },
  {
   "cell_type": "code",
   "execution_count": 13,
   "id": "883a88e0",
   "metadata": {},
   "outputs": [
    {
     "data": {
      "text/plain": [
       "(0j, (-1+0j))"
      ]
     },
     "execution_count": 13,
     "metadata": {},
     "output_type": "execute_result"
    }
   ],
   "source": [
    "# (01 + 10)00\n",
    "zz = numpy.zeros((1, 1<<4), dtype=numpy.complex128)\n",
    "zz[0, 0b1000] = 1.0\n",
    "zz[0, 0b0100] = 1.0\n",
    "zz /= numpy.linalg.norm(zz)\n",
    "rho = zz.T @ zz\n",
    "# print(numpy.trace(rho))\n",
    "rho /= numpy.trace(rho)\n",
    "rho = shadow_reconstruction.DensityMatrix.new_mixed_sparse(rho.astype(numpy.complex128))\n",
    "rho.expectation_string('ZIII'), rho.expectation_string('ZZII')"
   ]
  },
  {
   "cell_type": "code",
   "execution_count": 14,
   "id": "6a495f8c",
   "metadata": {},
   "outputs": [
    {
     "data": {
      "text/plain": [
       "(0j, (-0.9999999999999998+0j))"
      ]
     },
     "execution_count": 14,
     "metadata": {},
     "output_type": "execute_result"
    }
   ],
   "source": [
    "rho = shadow_reconstruction.DensityMatrix.new_pure_dense(zz[0,:].astype(numpy.complex128))\n",
    "rho.expectation_string('ZIII'), rho.expectation_string('ZZII')"
   ]
  },
  {
   "cell_type": "code",
   "execution_count": 15,
   "id": "c1b03600",
   "metadata": {},
   "outputs": [],
   "source": [
    "exp = shadow_reconstruction.Experiment(4, ops=cliffords)"
   ]
  },
  {
   "cell_type": "code",
   "execution_count": 16,
   "id": "23731d39",
   "metadata": {},
   "outputs": [
    {
     "name": "stdout",
     "output_type": "stream",
     "text": [
      "Sampling...\n",
      "Saving...\n"
     ]
    }
   ],
   "source": [
    "# if os.path.exists('larger_samples_pure.dat'):\n",
    "#     print(\"Loading...\")\n",
    "#     samples = shadow_reconstruction.Samples.load_from('larger_samples_pure.dat')\n",
    "# else:\n",
    "print(\"Sampling...\")\n",
    "samples = exp.sample(rho, 100000)\n",
    "print(\"Saving...\")\n",
    "samples.save_to('larger_samples_pure.dat')"
   ]
  },
  {
   "cell_type": "code",
   "execution_count": 17,
   "id": "9c059b73",
   "metadata": {},
   "outputs": [],
   "source": [
    "recon = shadow_reconstruction.Reconstruction()"
   ]
  },
  {
   "cell_type": "code",
   "execution_count": 18,
   "id": "9fb67f98",
   "metadata": {},
   "outputs": [
    {
     "data": {
      "text/plain": [
       "((0.006620000000000026+0j), 0j)"
      ]
     },
     "execution_count": 18,
     "metadata": {},
     "output_type": "execute_result"
    }
   ],
   "source": [
    "recon.use_smart_estimator()\n",
    "recon.estimate_string(\"ZIII\", samples), rho.expectation_string('ZIII')"
   ]
  },
  {
   "cell_type": "code",
   "execution_count": 19,
   "id": "b5941d77",
   "metadata": {},
   "outputs": [
    {
     "data": {
      "text/plain": [
       "((-0.9999179999999999+0j), (-0.9999999999999998+0j))"
      ]
     },
     "execution_count": 19,
     "metadata": {},
     "output_type": "execute_result"
    }
   ],
   "source": [
    "recon.use_smart_estimator()\n",
    "recon.estimate_string(\"ZZII\", samples), rho.expectation_string('ZZII')"
   ]
  },
  {
   "cell_type": "code",
   "execution_count": 20,
   "id": "3a193222",
   "metadata": {},
   "outputs": [
    {
     "data": {
      "text/plain": [
       "((0.004787999999999999+0j), 0j)"
      ]
     },
     "execution_count": 20,
     "metadata": {},
     "output_type": "execute_result"
    }
   ],
   "source": [
    "recon.use_smart_estimator()\n",
    "recon.estimate_string(\"ZIZI\", samples), rho.expectation_string('ZIZI')"
   ]
  },
  {
   "cell_type": "code",
   "execution_count": 21,
   "id": "ec79d172",
   "metadata": {},
   "outputs": [
    {
     "data": {
      "text/plain": [
       "((0.5020649999999999-0.002384999999999999j), (0.4999999999999999+0j))"
      ]
     },
     "execution_count": 21,
     "metadata": {},
     "output_type": "execute_result"
    }
   ],
   "source": [
    "recon.use_smart_estimator()\n",
    "recon.estimate_string(\"+-II\", samples), rho.expectation_string('+-II')"
   ]
  },
  {
   "cell_type": "code",
   "execution_count": 25,
   "id": "fe12ba64",
   "metadata": {},
   "outputs": [
    {
     "data": {
      "text/plain": [
       "(0j, 0j)"
      ]
     },
     "execution_count": 25,
     "metadata": {},
     "output_type": "execute_result"
    }
   ],
   "source": [
    "recon.use_smart_estimator()\n",
    "recon.estimate_string(\"-++-\", samples), rho.expectation_string('-++-')"
   ]
  },
  {
   "cell_type": "code",
   "execution_count": null,
   "id": "99f8fd63",
   "metadata": {},
   "outputs": [],
   "source": []
  }
 ],
 "metadata": {
  "kernelspec": {
   "display_name": "Python 3 (ipykernel)",
   "language": "python",
   "name": "python3"
  },
  "language_info": {
   "codemirror_mode": {
    "name": "ipython",
    "version": 3
   },
   "file_extension": ".py",
   "mimetype": "text/x-python",
   "name": "python",
   "nbconvert_exporter": "python",
   "pygments_lexer": "ipython3",
   "version": "3.10.12"
  }
 },
 "nbformat": 4,
 "nbformat_minor": 5
}
