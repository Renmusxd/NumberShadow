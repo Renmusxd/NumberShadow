{
 "cells": [
  {
   "cell_type": "code",
   "execution_count": 1,
   "id": "f5969fa9",
   "metadata": {},
   "outputs": [],
   "source": [
    "import shadow_reconstruction\n",
    "import qutip as qt\n",
    "import numpy\n",
    "from matplotlib import pyplot\n",
    "import os"
   ]
  },
  {
   "cell_type": "code",
   "execution_count": 2,
   "id": "e1f74543",
   "metadata": {},
   "outputs": [],
   "source": [
    "def make_perms(n):\n",
    "    return itertools.permutations(numpy.arange(n))\n",
    "\n",
    "def gen_cliffords():\n",
    "    yield from qt.qubit_clifford_group()\n",
    "\n",
    "\n",
    "def get_num_cons_cliffords():\n",
    "    def f(x):\n",
    "        y = numpy.eye(4, dtype=numpy.complex128)\n",
    "        y[1:3, 1:3] = x\n",
    "        return y\n",
    "    return {\n",
    "        k: f(v.__array__()) for k, v in enumerate(gen_cliffords())\n",
    "    }"
   ]
  },
  {
   "cell_type": "code",
   "execution_count": 3,
   "id": "b4af8935",
   "metadata": {},
   "outputs": [
    {
     "name": "stderr",
     "output_type": "stream",
     "text": [
      "/tmp/ipykernel_46992/2038288818.py:5: DeprecationWarning: Importing functions/classes of the qip submodule directly from the namespace qutip is deprecated. Please import them from the submodule instead, e.g.\n",
      "from qutip.qip.operations import cnot\n",
      "from qutip.qip.circuit import QubitCircuit\n",
      "\n",
      "  yield from qt.qubit_clifford_group()\n"
     ]
    }
   ],
   "source": [
    "cliffords = numpy.array(list(get_num_cons_cliffords().values()))"
   ]
  },
  {
   "cell_type": "markdown",
   "id": "c8e4c940",
   "metadata": {},
   "source": [
    "# Simple to start\n",
    "\n",
    "$$ \\vert \\psi \\rangle = \\frac{|01\\rangle + |10\\rangle}{\\sqrt{2}}$$"
   ]
  },
  {
   "cell_type": "code",
   "execution_count": 4,
   "id": "712ee54e",
   "metadata": {},
   "outputs": [
    {
     "name": "stdout",
     "output_type": "stream",
     "text": [
      "0.9999999999999998\n"
     ]
    }
   ],
   "source": [
    "zz = numpy.array([[0.,1.,1.,0.]])\n",
    "zz /= numpy.linalg.norm(zz)\n",
    "\n",
    "rho = zz.T @ zz\n",
    "# pyplot.imshow(rho)\n",
    "# pyplot.show()\n",
    "\n",
    "print(numpy.trace(rho))\n",
    "rho = shadow_reconstruction.DensityMatrix.new_mixed_sparse(rho.astype(numpy.complex128))"
   ]
  },
  {
   "cell_type": "markdown",
   "id": "4581c498",
   "metadata": {},
   "source": [
    "# Bigger\n",
    "\n",
    "$$|\\psi\\rangle = \\frac{|1000> + |0001>}{\\sqrt{2}}$$"
   ]
  },
  {
   "cell_type": "code",
   "execution_count": 5,
   "id": "883a88e0",
   "metadata": {},
   "outputs": [
    {
     "data": {
      "text/plain": [
       "(0j, (-1+0j))"
      ]
     },
     "execution_count": 5,
     "metadata": {},
     "output_type": "execute_result"
    }
   ],
   "source": [
    "# (01 + 10)00\n",
    "zz = numpy.zeros((1, 1<<4), dtype=numpy.complex128)\n",
    "zz[0, 0b1000] = 1.0\n",
    "zz[0, 0b0100] = 1.0\n",
    "zz /= numpy.linalg.norm(zz)\n",
    "rho = zz.T @ zz\n",
    "# print(numpy.trace(rho))\n",
    "rho /= numpy.trace(rho)\n",
    "rho = shadow_reconstruction.DensityMatrix.new_mixed_sparse(rho.astype(numpy.complex128))\n",
    "rho.expectation_string('ZIII'), rho.expectation_string('ZZII')"
   ]
  },
  {
   "cell_type": "code",
   "execution_count": 6,
   "id": "6a495f8c",
   "metadata": {},
   "outputs": [
    {
     "data": {
      "text/plain": [
       "(0j, (-0.9999999999999998+0j))"
      ]
     },
     "execution_count": 6,
     "metadata": {},
     "output_type": "execute_result"
    }
   ],
   "source": [
    "rho = shadow_reconstruction.DensityMatrix.new_pure_dense(zz[0,:].astype(numpy.complex128))\n",
    "rho.expectation_string('ZIII'), rho.expectation_string('ZZII')"
   ]
  },
  {
   "cell_type": "code",
   "execution_count": 7,
   "id": "c1b03600",
   "metadata": {},
   "outputs": [],
   "source": [
    "exp = shadow_reconstruction.Experiment(4, ops=cliffords)"
   ]
  },
  {
   "cell_type": "code",
   "execution_count": 8,
   "id": "23731d39",
   "metadata": {},
   "outputs": [
    {
     "name": "stdout",
     "output_type": "stream",
     "text": [
      "Sampling...\n",
      "Saving...\n"
     ]
    }
   ],
   "source": [
    "# if os.path.exists('larger_samples_pure.dat'):\n",
    "#     print(\"Loading...\")\n",
    "#     samples = shadow_reconstruction.Samples.load_from('larger_samples_pure.dat')\n",
    "# else:\n",
    "print(\"Sampling...\")\n",
    "samples = exp.sample(rho, 1_000_000)\n",
    "print(\"Saving...\")"
   ]
  },
  {
   "cell_type": "code",
   "execution_count": 9,
   "id": "9c059b73",
   "metadata": {},
   "outputs": [],
   "source": [
    "recon = shadow_reconstruction.Reconstruction(False)"
   ]
  },
  {
   "cell_type": "code",
   "execution_count": 10,
   "id": "9fb67f98",
   "metadata": {},
   "outputs": [
    {
     "data": {
      "text/plain": [
       "((-3.640000000000367e-05+0j), 0j)"
      ]
     },
     "execution_count": 10,
     "metadata": {},
     "output_type": "execute_result"
    }
   ],
   "source": [
    "recon.use_smart_estimator()\n",
    "recon.estimate_string(\"ZIII\", samples), rho.expectation_string('ZIII')"
   ]
  },
  {
   "cell_type": "code",
   "execution_count": 11,
   "id": "b5941d77",
   "metadata": {},
   "outputs": [
    {
     "data": {
      "text/plain": [
       "((-1.0009116000000033+0j), (-0.9999999999999998+0j))"
      ]
     },
     "execution_count": 11,
     "metadata": {},
     "output_type": "execute_result"
    }
   ],
   "source": [
    "recon.use_smart_estimator()\n",
    "recon.estimate_string(\"ZZII\", samples), rho.expectation_string('ZZII')"
   ]
  },
  {
   "cell_type": "code",
   "execution_count": 12,
   "id": "3a193222",
   "metadata": {},
   "outputs": [
    {
     "data": {
      "text/plain": [
       "((0.0004481999999999992+0j), 0j)"
      ]
     },
     "execution_count": 12,
     "metadata": {},
     "output_type": "execute_result"
    }
   ],
   "source": [
    "recon.use_smart_estimator()\n",
    "recon.estimate_string(\"ZIZI\", samples), rho.expectation_string('ZIZI')"
   ]
  },
  {
   "cell_type": "code",
   "execution_count": 13,
   "id": "ec79d172",
   "metadata": {},
   "outputs": [
    {
     "data": {
      "text/plain": [
       "((0.5004404999999998+0.003154499999999999j), (0.4999999999999999+0j))"
      ]
     },
     "execution_count": 13,
     "metadata": {},
     "output_type": "execute_result"
    }
   ],
   "source": [
    "recon.use_smart_estimator()\n",
    "recon.estimate_string(\"+-II\", samples), rho.expectation_string('+-II')"
   ]
  },
  {
   "cell_type": "code",
   "execution_count": 14,
   "id": "fe12ba64",
   "metadata": {},
   "outputs": [
    {
     "data": {
      "text/plain": [
       "(0j, 0j)"
      ]
     },
     "execution_count": 14,
     "metadata": {},
     "output_type": "execute_result"
    }
   ],
   "source": [
    "recon.use_smart_estimator()\n",
    "recon.estimate_string(\"-++-\", samples), rho.expectation_string('-++-')"
   ]
  },
  {
   "cell_type": "markdown",
   "id": "7cf73014",
   "metadata": {},
   "source": [
    "# Check filtering"
   ]
  },
  {
   "cell_type": "code",
   "execution_count": 23,
   "id": "e9d59b63",
   "metadata": {},
   "outputs": [
    {
     "data": {
      "text/plain": [
       "(array([0. , 4.5]), array([888791, 111209]), 1000000, 2.0015415559597494)"
      ]
     },
     "execution_count": 23,
     "metadata": {},
     "output_type": "execute_result"
    }
   ],
   "source": [
    "recon = shadow_reconstruction.Reconstruction(False)\n",
    "meas = numpy.round(recon.estimate_string_for_each_sample(\"+-II\", samples).real, decimals=5)\n",
    "vals, counts = numpy.unique(meas, return_counts=True)\n",
    "vals, counts, sum(counts), numpy.var(meas)"
   ]
  },
  {
   "cell_type": "code",
   "execution_count": 24,
   "id": "a9368d5e",
   "metadata": {},
   "outputs": [
    {
     "data": {
      "text/plain": [
       "(0.5004404999999998+0.003154499999999999j)"
      ]
     },
     "execution_count": 24,
     "metadata": {},
     "output_type": "execute_result"
    }
   ],
   "source": [
    "recon.estimate_string(\"+-II\", samples)"
   ]
  },
  {
   "cell_type": "code",
   "execution_count": 25,
   "id": "a8b0b31f",
   "metadata": {},
   "outputs": [
    {
     "data": {
      "text/plain": [
       "(array([0. , 1.5]), array([222697, 111209]), 333906, 0.4997909343329443)"
      ]
     },
     "execution_count": 25,
     "metadata": {},
     "output_type": "execute_result"
    }
   ],
   "source": [
    "recon = shadow_reconstruction.Reconstruction(True)\n",
    "meas = numpy.round(recon.estimate_string_for_each_sample(\"+-II\", samples).real, decimals=5)\n",
    "vals, counts = numpy.unique(meas, return_counts=True)\n",
    "vals, counts, sum(counts), numpy.var(meas)"
   ]
  },
  {
   "cell_type": "code",
   "execution_count": 26,
   "id": "1ddc75ae",
   "metadata": {},
   "outputs": [
    {
     "data": {
      "text/plain": [
       "(0.49958221774990547+0.0031490898636143093j)"
      ]
     },
     "execution_count": 26,
     "metadata": {},
     "output_type": "execute_result"
    }
   ],
   "source": [
    "recon.estimate_string(\"+-II\", samples)"
   ]
  },
  {
   "cell_type": "code",
   "execution_count": null,
   "id": "a2d6f51c",
   "metadata": {},
   "outputs": [],
   "source": []
  }
 ],
 "metadata": {
  "kernelspec": {
   "display_name": "Python 3 (ipykernel)",
   "language": "python",
   "name": "python3"
  },
  "language_info": {
   "codemirror_mode": {
    "name": "ipython",
    "version": 3
   },
   "file_extension": ".py",
   "mimetype": "text/x-python",
   "name": "python",
   "nbconvert_exporter": "python",
   "pygments_lexer": "ipython3",
   "version": "3.10.12"
  }
 },
 "nbformat": 4,
 "nbformat_minor": 5
}
