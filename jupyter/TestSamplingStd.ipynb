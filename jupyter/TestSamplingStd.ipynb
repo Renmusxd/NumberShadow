{
 "cells": [
  {
   "cell_type": "code",
   "execution_count": 1,
   "id": "4926dc04",
   "metadata": {},
   "outputs": [],
   "source": [
    "import shadow_reconstruction\n",
    "import qutip as qt\n",
    "import numpy\n",
    "from matplotlib import pyplot\n",
    "import os"
   ]
  },
  {
   "cell_type": "code",
   "execution_count": 2,
   "id": "3e88b9b2",
   "metadata": {},
   "outputs": [],
   "source": [
    "def make_perms(n):\n",
    "    return itertools.permutations(numpy.arange(n))\n",
    "\n",
    "def gen_cliffords():\n",
    "    yield from qt.qubit_clifford_group()\n",
    "\n",
    "\n",
    "def get_num_cons_cliffords():\n",
    "    def f(x):\n",
    "        y = numpy.eye(4, dtype=numpy.complex128)\n",
    "        y[1:3, 1:3] = x\n",
    "        return y\n",
    "    return {\n",
    "        k: f(v.__array__()) for k, v in enumerate(gen_cliffords())\n",
    "    }"
   ]
  },
  {
   "cell_type": "code",
   "execution_count": 3,
   "id": "36fb06c3",
   "metadata": {},
   "outputs": [
    {
     "name": "stderr",
     "output_type": "stream",
     "text": [
      "/tmp/ipykernel_8359/2038288818.py:5: DeprecationWarning: Importing functions/classes of the qip submodule directly from the namespace qutip is deprecated. Please import them from the submodule instead, e.g.\n",
      "from qutip.qip.operations import cnot\n",
      "from qutip.qip.circuit import QubitCircuit\n",
      "\n",
      "  yield from qt.qubit_clifford_group()\n"
     ]
    }
   ],
   "source": [
    "cliffords = numpy.array(list(get_num_cons_cliffords().values()))"
   ]
  },
  {
   "cell_type": "code",
   "execution_count": 54,
   "id": "d95251e1",
   "metadata": {},
   "outputs": [],
   "source": [
    "# (01 + 10)00\n",
    "l = 16\n",
    "zz = numpy.zeros((1, 1<<l), dtype=numpy.complex128)\n",
    "zz[0, 1] = 1.0\n",
    "# zz /= numpy.linalg.norm(zz)\n",
    "# rho = zz.T @ zz\n",
    "# # print(numpy.trace(rho))\n",
    "# rho /= numpy.trace(rho)\n",
    "# rho = shadow_reconstruction.DensityMatrix.new_mixed_sparse(rho.astype(numpy.complex128))\n",
    "# rho.expectation_string('Z' + 'I'*7), rho.expectation_string('ZIZ' + 'I'*5)"
   ]
  },
  {
   "cell_type": "code",
   "execution_count": 55,
   "id": "d2084c8f",
   "metadata": {},
   "outputs": [
    {
     "data": {
      "text/plain": [
       "(-1+0j)"
      ]
     },
     "execution_count": 55,
     "metadata": {},
     "output_type": "execute_result"
    }
   ],
   "source": [
    "rho = shadow_reconstruction.DensityMatrix.new_pure_dense(zz[0,:].astype(numpy.complex128))\n",
    "rho.expectation_string('I'*(l-1) + 'Z')"
   ]
  },
  {
   "cell_type": "code",
   "execution_count": 56,
   "id": "a970db2a",
   "metadata": {},
   "outputs": [
    {
     "name": "stdout",
     "output_type": "stream",
     "text": [
      "Sampling...\n",
      "Saving...\n"
     ]
    }
   ],
   "source": [
    "N = 100_000\n",
    "\n",
    "exp = shadow_reconstruction.Experiment(l, ops=cliffords)\n",
    "print(\"Sampling...\")\n",
    "samples = exp.sample(rho, N)\n",
    "print(\"Saving...\")\n",
    "samples.save_to('larger_samples_pure.dat')"
   ]
  },
  {
   "cell_type": "code",
   "execution_count": 45,
   "id": "95decd70",
   "metadata": {},
   "outputs": [],
   "source": [
    "def est_str(opstr, rho, samples, subsets, trials=1000):\n",
    "    tru = rho.expectation_string(opstr)\n",
    "    \n",
    "    xaxis = []\n",
    "    mdata = []\n",
    "    sdata = []\n",
    "    \n",
    "    for sub in subsets:\n",
    "        sub = int(sub)\n",
    "        xaxis.append(sub)\n",
    "        subdat = []\n",
    "        for _ in range(trials):\n",
    "            est = recon.estimate_string(opstr, samples.subset(sub))\n",
    "            subdat.append(est - tru)\n",
    "        m = numpy.mean(subdat)\n",
    "        s = numpy.std(subdat)/trials\n",
    "        mdata.append(m)\n",
    "        sdata.append(s)\n",
    "    return numpy.array(mdata), numpy.array(sdata)"
   ]
  },
  {
   "cell_type": "code",
   "execution_count": 59,
   "id": "6e0ade85",
   "metadata": {},
   "outputs": [
    {
     "data": {
      "text/plain": [
       "[<matplotlib.lines.Line2D at 0x7fe26f79f580>]"
      ]
     },
     "execution_count": 59,
     "metadata": {},
     "output_type": "execute_result"
    },
    {
     "data": {
      "image/png": "[encoded data removed]",
      "text/plain": [
       "<Figure size 640x480 with 1 Axes>"
      ]
     },
     "metadata": {},
     "output_type": "display_data"
    }
   ],
   "source": [
    "recon = shadow_reconstruction.Reconstruction()\n",
    "\n",
    "std_data = []\n",
    "for i in range(1,l//2 + 1):\n",
    "    opstr = 'I'*(l-i) + 'Z'*i\n",
    "    \n",
    "    tru = rho.expectation_string(opstr)\n",
    "    \n",
    "    ests_diffs = recon.estimate_string_for_each_sample(opstr, samples) - tru\n",
    "    std_diffs = numpy.sqrt((numpy.conj(ests_diffs) * ests_diffs).real).mean()\n",
    "    std_data.append(std_diffs)\n",
    "pyplot.plot(std_data)"
   ]
  },
  {
   "cell_type": "code",
   "execution_count": null,
   "id": "a8b6bb7a",
   "metadata": {},
   "outputs": [],
   "source": []
  }
 ],
 "metadata": {
  "kernelspec": {
   "display_name": "Python 3 (ipykernel)",
   "language": "python",
   "name": "python3"
  },
  "language_info": {
   "codemirror_mode": {
    "name": "ipython",
    "version": 3
   },
   "file_extension": ".py",
   "mimetype": "text/x-python",
   "name": "python",
   "nbconvert_exporter": "python",
   "pygments_lexer": "ipython3",
   "version": "3.10.12"
  }
 },
 "nbformat": 4,
 "nbformat_minor": 5
}
