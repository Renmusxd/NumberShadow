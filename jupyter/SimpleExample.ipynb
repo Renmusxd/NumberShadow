{
 "cells": [
  {
   "cell_type": "code",
   "execution_count": 1,
   "id": "24934322-08d8-40d4-972f-c8ca3fb36cf2",
   "metadata": {},
   "outputs": [],
   "source": [
    "import numpy\n",
    "from matplotlib import pyplot\n",
    "import os\n",
    "import shadow_reconstruction"
   ]
  },
  {
   "cell_type": "markdown",
   "id": "c8432c17-5ae4-4d62-9bab-b49f8dacaea0",
   "metadata": {},
   "source": [
    "Lets set up a superposition of charges on opposite sides of a chain; we use the `DensityMatrix` class to hold the pure state."
   ]
  },
  {
   "cell_type": "code",
   "execution_count": 3,
   "id": "d864f14c-463a-4f68-bb30-645363aaee0e",
   "metadata": {},
   "outputs": [],
   "source": [
    "L = 10\n",
    "\n",
    "state = numpy.zeros((1<<L,), dtype=numpy.complex128)\n",
    "\n",
    "state[0b0000000001] = 0.5\n",
    "state[0b1000000000] = 0.5\n",
    "state = shadow_reconstruction.DensityMatrix.new_pure_dense(state)"
   ]
  },
  {
   "cell_type": "markdown",
   "id": "0f3783cd-87e4-4bed-ba5c-a43ff4652833",
   "metadata": {},
   "source": [
    "Consider the operator $a^\\dagger_1 a_L$, calculate the true value of the expectation value:"
   ]
  },
  {
   "cell_type": "code",
   "execution_count": 5,
   "id": "0d4e78ec-c134-4b3f-8c8a-f34887e1cf93",
   "metadata": {},
   "outputs": [
    {
     "data": {
      "text/plain": [
       "(0.25+0j)"
      ]
     },
     "execution_count": 5,
     "metadata": {},
     "output_type": "execute_result"
    }
   ],
   "source": [
    "operator = '+' + 'I'*(L-2) + '-'\n",
    "state.expectation_string(operator)"
   ]
  },
  {
   "cell_type": "markdown",
   "id": "0c17dfcd-b03b-4b01-bdf4-a28bc9459650",
   "metadata": {},
   "source": [
    "We now use the `Experiment` class to construct a shadow table with 10,000 entries."
   ]
  },
  {
   "cell_type": "code",
   "execution_count": 16,
   "id": "b57776e8-ea63-4455-bc64-089aa9b5dd46",
   "metadata": {},
   "outputs": [
    {
     "data": {
      "text/plain": [
       "10000"
      ]
     },
     "execution_count": 16,
     "metadata": {},
     "output_type": "execute_result"
    }
   ],
   "source": [
    "experiment = shadow_reconstruction.Experiment(L)\n",
    "measurements = experiment.sample(state, 10_000)\n",
    "\n",
    "measurements.num_samples()"
   ]
  },
  {
   "cell_type": "markdown",
   "id": "d81390ad-36a7-48f9-8571-db9859d6c747",
   "metadata": {},
   "source": [
    "The `Reconstruction` class takes these samples and estimates the operator expectation value."
   ]
  },
  {
   "cell_type": "code",
   "execution_count": 17,
   "id": "b1023e3f-7640-47ae-8883-7e3b2efb486d",
   "metadata": {},
   "outputs": [
    {
     "data": {
      "text/plain": [
       "(0.24816176470588247-0.005514705882352944j)"
      ]
     },
     "execution_count": 17,
     "metadata": {},
     "output_type": "execute_result"
    }
   ],
   "source": [
    "recon = shadow_reconstruction.Reconstruction()\n",
    "recon.estimate_string(operator, measurements)"
   ]
  },
  {
   "cell_type": "markdown",
   "id": "6e01ee98-d463-4233-89a8-1a1935c4c937",
   "metadata": {},
   "source": [
    "Lets map each of the samples to a scalar $Tr[\\hat{\\rho} O]$, and plot their distribution"
   ]
  },
  {
   "cell_type": "code",
   "execution_count": 42,
   "id": "71707184-775f-40ab-b4df-a75bf6a75128",
   "metadata": {},
   "outputs": [],
   "source": [
    "shadows = recon.estimate_string_for_each_sample(operator, measurements, filtered=False)"
   ]
  },
  {
   "cell_type": "code",
   "execution_count": 43,
   "id": "24dcabaf-97ef-4d80-9c32-c597265bb491",
   "metadata": {},
   "outputs": [
    {
     "data": {
      "image/png": "[encoded data removed]",
      "text/plain": [
       "<Figure size 640x480 with 1 Axes>"
      ]
     },
     "metadata": {},
     "output_type": "display_data"
    }
   ],
   "source": [
    "_, bins, _ = pyplot.hist(shadows.imag, bins=100, alpha=0.5)\n",
    "pyplot.hist(shadows.real, bins=bins, alpha=0.5)\n",
    "pyplot.grid()\n",
    "pyplot.yscale('log')\n",
    "pyplot.show()"
   ]
  },
  {
   "cell_type": "markdown",
   "id": "092a789f-5e43-4109-aeb0-33ac5fde5d74",
   "metadata": {},
   "source": [
    "Many of these are trivially zero, we can filter these out by only considering samples which match $a$ to $a^\\dagger$, rescaling the remaining values by the expected fraction which contribute."
   ]
  },
  {
   "cell_type": "code",
   "execution_count": 44,
   "id": "3c60ae28-5eb4-4eec-89e0-860bf2598df2",
   "metadata": {},
   "outputs": [],
   "source": [
    "shadows = recon.estimate_string_for_each_sample(operator, measurements, filtered=True)"
   ]
  },
  {
   "cell_type": "code",
   "execution_count": 45,
   "id": "86bbe932-39e1-4e73-8734-296ed1f3ca41",
   "metadata": {},
   "outputs": [
    {
     "data": {
      "image/png": "[encoded data removed]",
      "text/plain": [
       "<Figure size 640x480 with 1 Axes>"
      ]
     },
     "metadata": {},
     "output_type": "display_data"
    }
   ],
   "source": [
    "_, bins, _ = pyplot.hist(shadows.imag, bins=100, alpha=0.5)\n",
    "pyplot.hist(shadows.real, bins=bins, alpha=0.5)\n",
    "pyplot.grid()\n",
    "pyplot.yscale('log')\n",
    "pyplot.show()"
   ]
  },
  {
   "cell_type": "code",
   "execution_count": null,
   "id": "1e02282e-c695-48b9-8179-30058e933ca6",
   "metadata": {},
   "outputs": [],
   "source": []
  }
 ],
 "metadata": {
  "kernelspec": {
   "display_name": "Python 3 (ipykernel)",
   "language": "python",
   "name": "python3"
  },
  "language_info": {
   "codemirror_mode": {
    "name": "ipython",
    "version": 3
   },
   "file_extension": ".py",
   "mimetype": "text/x-python",
   "name": "python",
   "nbconvert_exporter": "python",
   "pygments_lexer": "ipython3",
   "version": "3.10.12"
  }
 },
 "nbformat": 4,
 "nbformat_minor": 5
}
