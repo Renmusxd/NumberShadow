{
 "cells": [
  {
   "cell_type": "code",
   "execution_count": 1,
   "id": "ca28b1d3",
   "metadata": {},
   "outputs": [],
   "source": [
    "import shadow_reconstruction\n",
    "import qutip as qt\n",
    "import numpy\n",
    "from matplotlib import pyplot\n",
    "import itertools\n",
    "from tqdm.notebook import tqdm\n",
    "import functools\n",
    "import os"
   ]
  },
  {
   "cell_type": "code",
   "execution_count": 2,
   "id": "2a54456e",
   "metadata": {},
   "outputs": [
    {
     "name": "stderr",
     "output_type": "stream",
     "text": [
      "/var/folders/xx/cyn56y8j4l198w4cbbcv3pp80000gn/T/ipykernel_76944/3648221067.py:10: DeprecationWarning: Importing functions/classes of the qip submodule directly from the namespace qutip is deprecated. Please import them from the submodule instead, e.g.\n",
      "from qutip.qip.operations import cnot\n",
      "from qutip.qip.circuit import QubitCircuit\n",
      "\n",
      "  yield from qt.qubit_clifford_group()\n"
     ]
    }
   ],
   "source": [
    "def make_perms(n):\n",
    "    return itertools.permutations(numpy.arange(n))\n",
    "\n",
    "def permute_bits(i, n, perm):\n",
    "    bits = bin(i)[2:]\n",
    "    newbits = ''.join([bits[p] for p in perm])\n",
    "    return int(newbits, 2)\n",
    "\n",
    "def gen_cliffords():\n",
    "    yield from qt.qubit_clifford_group()\n",
    "\n",
    "\n",
    "def get_num_cons_cliffords():\n",
    "    def f(x):\n",
    "        y = numpy.eye(4, dtype=numpy.complex128)\n",
    "        y[1:3, 1:3] = x\n",
    "        return y\n",
    "    return {\n",
    "        k: f(v.__array__()) for k, v in enumerate(gen_cliffords())\n",
    "    }\n",
    "cliffords = numpy.array(list(get_num_cons_cliffords().values()))"
   ]
  },
  {
   "cell_type": "markdown",
   "id": "c3303468",
   "metadata": {},
   "source": [
    "# Study Convergence"
   ]
  },
  {
   "cell_type": "code",
   "execution_count": 3,
   "id": "f08c4e55",
   "metadata": {},
   "outputs": [],
   "source": [
    "def uniform_rho(n):\n",
    "    # (01 + 10)00\n",
    "    zz = numpy.zeros((1, 1<<n), dtype=numpy.complex128)\n",
    "    for j in range(n):\n",
    "        zz[0, 1<<j] = 1.0\n",
    "    rho = zz.T @ zz\n",
    "    rho /= numpy.trace(rho)\n",
    "    rho = shadow_reconstruction.DensityMatrix.from_dense(rho.astype(numpy.complex128))\n",
    "    return rho\n",
    "\n",
    "def half_filling_random(n, scale=1.0, phases=False):\n",
    "    # (01 + 10)00\n",
    "    zz = numpy.zeros((1, 1<<n), dtype=numpy.complex128)\n",
    "    \n",
    "    base_index = ['0']*(n//2) + ['1']*(n//2)\n",
    "    for new_index in set(itertools.permutations(base_index)):\n",
    "        new_index = int(''.join(new_index), 2)\n",
    "        zz[0, new_index] = numpy.random.normal(scale=scale)\n",
    "        if phases:\n",
    "            zz[0,new_index] = zz[0,new_index] * numpy.exp(2.0j * numpy.pi * numpy.random.rand())\n",
    "    \n",
    "    rho = zz.T @ zz\n",
    "    rho /= numpy.trace(rho)\n",
    "    rho = shadow_reconstruction.DensityMatrix.from_dense(rho.astype(numpy.complex128))\n",
    "    return rho\n",
    "\n",
    "\n",
    "def make_samples(rho, n, iters=10000):\n",
    "    exp = shadow_reconstruction.Experiment(n, ops=cliffords)\n",
    "    return exp.sample(rho, iters)\n",
    "\n",
    "def get_estimates(rho, n, opstring, samples, check=False):\n",
    "    recon = shadow_reconstruction.Reconstruction(ops=cliffords)\n",
    "    estimates = recon.estimate_string_for_each_sample(opstring, samples)\n",
    "    if check:\n",
    "        assert abs(estimates.mean() - recon.estimate_operator_string(opstring, samples)) < 1e-6\n",
    "    return estimates\n",
    "\n",
    "def get_exact(rho, opstring):\n",
    "    return rho.expectation_string(opstring)"
   ]
  },
  {
   "cell_type": "code",
   "execution_count": 4,
   "id": "fec3fb92",
   "metadata": {},
   "outputs": [],
   "source": [
    "def get_diffs_for(opstring, L, iters, super_iters=100, cache='numerics', file_subname='samples'):\n",
    "    os.makedirs(cache, exist_ok=True)\n",
    "    \n",
    "    means = []\n",
    "    for _ in range(super_iters):\n",
    "#         rho = uniform_rho(L)\n",
    "        rho = half_filling_random(L, scale=0.1)\n",
    "        exact = get_exact(rho, opstring)\n",
    "        \n",
    "        filename = os.path.join(cache, \"{}_{}_{}.data\".format(L,iters,file_subname))\n",
    "        if os.path.exists(filename):\n",
    "            samples = shadow_reconstruction.Samples.load_from(filename)\n",
    "        else:\n",
    "            samples = make_samples(rho, L, iters=iters)\n",
    "            samples.save_to(filename)\n",
    "        expectation = get_estimates(rho, L, opstring, samples).mean()\n",
    "        means.append(expectation)\n",
    "    return numpy.array(means) - exact"
   ]
  },
  {
   "cell_type": "code",
   "execution_count": 5,
   "id": "0016ee8e",
   "metadata": {},
   "outputs": [],
   "source": [
    "def get_mean_sqr_for_Ls(Ls, iter_range=(1,10,2), super_iters=1000, opfn=None):\n",
    "    if opfn is None:\n",
    "        opfn = lambda l: '+-' + 'Z'*(l-2)\n",
    "    s_iters = 2**numpy.arange(*iter_range)\n",
    "    all_pairs = list(itertools.product(Ls, s_iters))\n",
    "    numpy.random.shuffle(all_pairs)\n",
    "    \n",
    "    pair_data = {}\n",
    "    for i, (L, iters) in enumerate(tqdm(all_pairs)):\n",
    "        diffs = get_diffs_for(opfn(L), L, iters, super_iters=super_iters, file_subname=str(i))\n",
    "        # Calculate std of complex variables\n",
    "        mean_sqr = numpy.sqrt((diffs * numpy.conj(diffs)).real.mean())\n",
    "        pair_data[L,iters] = mean_sqr\n",
    "    \n",
    "    return s_iters, pair_data"
   ]
  },
  {
   "cell_type": "code",
   "execution_count": 6,
   "id": "a3f8a96d",
   "metadata": {},
   "outputs": [
    {
     "data": {
      "application/vnd.jupyter.widget-view+json": {
       "model_id": "fb44248f319a4f05b2bf717609e35312",
       "version_major": 2,
       "version_minor": 0
      },
      "text/plain": [
       "  0%|          | 0/36 [00:00<?, ?it/s]"
      ]
     },
     "metadata": {},
     "output_type": "display_data"
    },
    {
     "ename": "KeyboardInterrupt",
     "evalue": "",
     "output_type": "error",
     "traceback": [
      "\u001b[0;31m---------------------------------------------------------------------------\u001b[0m",
      "\u001b[0;31mKeyboardInterrupt\u001b[0m                         Traceback (most recent call last)",
      "Cell \u001b[0;32mIn[6], line 3\u001b[0m\n\u001b[1;32m      1\u001b[0m Ls \u001b[38;5;241m=\u001b[39m [\u001b[38;5;241m2\u001b[39m,\u001b[38;5;241m4\u001b[39m,\u001b[38;5;241m6\u001b[39m,\u001b[38;5;241m8\u001b[39m]\n\u001b[1;32m      2\u001b[0m iter_range\u001b[38;5;241m=\u001b[39m(\u001b[38;5;241m1\u001b[39m,\u001b[38;5;241m10\u001b[39m,\u001b[38;5;241m1\u001b[39m)\n\u001b[0;32m----> 3\u001b[0m s_iters, data \u001b[38;5;241m=\u001b[39m \u001b[43mget_mean_sqr_for_Ls\u001b[49m\u001b[43m(\u001b[49m\u001b[43mLs\u001b[49m\u001b[43m,\u001b[49m\u001b[43m \u001b[49m\u001b[43miter_range\u001b[49m\u001b[38;5;241;43m=\u001b[39;49m\u001b[43miter_range\u001b[49m\u001b[43m,\u001b[49m\u001b[43m \u001b[49m\u001b[43mopfn\u001b[49m\u001b[38;5;241;43m=\u001b[39;49m\u001b[38;5;28;43;01mlambda\u001b[39;49;00m\u001b[43m \u001b[49m\u001b[43mx\u001b[49m\u001b[43m:\u001b[49m\u001b[43m \u001b[49m\u001b[38;5;124;43m'\u001b[39;49m\u001b[38;5;124;43m+-\u001b[39;49m\u001b[38;5;124;43m'\u001b[39;49m\u001b[38;5;241;43m*\u001b[39;49m\u001b[43m(\u001b[49m\u001b[43mx\u001b[49m\u001b[38;5;241;43m/\u001b[39;49m\u001b[38;5;241;43m/\u001b[39;49m\u001b[38;5;241;43m2\u001b[39;49m\u001b[43m)\u001b[49m\u001b[43m)\u001b[49m\n\u001b[1;32m      5\u001b[0m \u001b[38;5;28;01mfor\u001b[39;00m L \u001b[38;5;129;01min\u001b[39;00m Ls:\n\u001b[1;32m      6\u001b[0m     L_data \u001b[38;5;241m=\u001b[39m [data[(L,iters)] \u001b[38;5;28;01mfor\u001b[39;00m iters \u001b[38;5;129;01min\u001b[39;00m s_iters]\n",
      "Cell \u001b[0;32mIn[5], line 10\u001b[0m, in \u001b[0;36mget_mean_sqr_for_Ls\u001b[0;34m(Ls, iter_range, super_iters, opfn)\u001b[0m\n\u001b[1;32m      8\u001b[0m pair_data \u001b[38;5;241m=\u001b[39m {}\n\u001b[1;32m      9\u001b[0m \u001b[38;5;28;01mfor\u001b[39;00m i, (L, iters) \u001b[38;5;129;01min\u001b[39;00m \u001b[38;5;28menumerate\u001b[39m(tqdm(all_pairs)):\n\u001b[0;32m---> 10\u001b[0m     diffs \u001b[38;5;241m=\u001b[39m \u001b[43mget_diffs_for\u001b[49m\u001b[43m(\u001b[49m\u001b[43mopfn\u001b[49m\u001b[43m(\u001b[49m\u001b[43mL\u001b[49m\u001b[43m)\u001b[49m\u001b[43m,\u001b[49m\u001b[43m \u001b[49m\u001b[43mL\u001b[49m\u001b[43m,\u001b[49m\u001b[43m \u001b[49m\u001b[43miters\u001b[49m\u001b[43m,\u001b[49m\u001b[43m \u001b[49m\u001b[43msuper_iters\u001b[49m\u001b[38;5;241;43m=\u001b[39;49m\u001b[43msuper_iters\u001b[49m\u001b[43m,\u001b[49m\u001b[43m \u001b[49m\u001b[43mfile_subname\u001b[49m\u001b[38;5;241;43m=\u001b[39;49m\u001b[38;5;28;43mstr\u001b[39;49m\u001b[43m(\u001b[49m\u001b[43mi\u001b[49m\u001b[43m)\u001b[49m\u001b[43m)\u001b[49m\n\u001b[1;32m     11\u001b[0m     \u001b[38;5;66;03m# Calculate std of complex variables\u001b[39;00m\n\u001b[1;32m     12\u001b[0m     mean_sqr \u001b[38;5;241m=\u001b[39m numpy\u001b[38;5;241m.\u001b[39msqrt((diffs \u001b[38;5;241m*\u001b[39m numpy\u001b[38;5;241m.\u001b[39mconj(diffs))\u001b[38;5;241m.\u001b[39mreal\u001b[38;5;241m.\u001b[39mmean())\n",
      "Cell \u001b[0;32mIn[4], line 7\u001b[0m, in \u001b[0;36mget_diffs_for\u001b[0;34m(opstring, L, iters, super_iters, cache, file_subname)\u001b[0m\n\u001b[1;32m      4\u001b[0m     means \u001b[38;5;241m=\u001b[39m []\n\u001b[1;32m      5\u001b[0m     \u001b[38;5;28;01mfor\u001b[39;00m _ \u001b[38;5;129;01min\u001b[39;00m \u001b[38;5;28mrange\u001b[39m(super_iters):\n\u001b[1;32m      6\u001b[0m \u001b[38;5;66;03m#         rho = uniform_rho(L)\u001b[39;00m\n\u001b[0;32m----> 7\u001b[0m         rho \u001b[38;5;241m=\u001b[39m \u001b[43mhalf_filling_random\u001b[49m\u001b[43m(\u001b[49m\u001b[43mL\u001b[49m\u001b[43m,\u001b[49m\u001b[43m \u001b[49m\u001b[43mscale\u001b[49m\u001b[38;5;241;43m=\u001b[39;49m\u001b[38;5;241;43m0.1\u001b[39;49m\u001b[43m)\u001b[49m\n\u001b[1;32m      8\u001b[0m         exact \u001b[38;5;241m=\u001b[39m get_exact(rho, opstring)\n\u001b[1;32m     10\u001b[0m         filename \u001b[38;5;241m=\u001b[39m os\u001b[38;5;241m.\u001b[39mpath\u001b[38;5;241m.\u001b[39mjoin(cache, \u001b[38;5;124m\"\u001b[39m\u001b[38;5;132;01m{}\u001b[39;00m\u001b[38;5;124m_\u001b[39m\u001b[38;5;132;01m{}\u001b[39;00m\u001b[38;5;124m_\u001b[39m\u001b[38;5;132;01m{}\u001b[39;00m\u001b[38;5;124m.data\u001b[39m\u001b[38;5;124m\"\u001b[39m\u001b[38;5;241m.\u001b[39mformat(L,iters,file_subname))\n",
      "Cell \u001b[0;32mIn[3], line 16\u001b[0m, in \u001b[0;36mhalf_filling_random\u001b[0;34m(n, scale, phases)\u001b[0m\n\u001b[1;32m     13\u001b[0m zz \u001b[38;5;241m=\u001b[39m numpy\u001b[38;5;241m.\u001b[39mzeros((\u001b[38;5;241m1\u001b[39m, \u001b[38;5;241m1\u001b[39m\u001b[38;5;241m<<\u001b[39mn), dtype\u001b[38;5;241m=\u001b[39mnumpy\u001b[38;5;241m.\u001b[39mcomplex128)\n\u001b[1;32m     15\u001b[0m base_index \u001b[38;5;241m=\u001b[39m [\u001b[38;5;124m'\u001b[39m\u001b[38;5;124m0\u001b[39m\u001b[38;5;124m'\u001b[39m]\u001b[38;5;241m*\u001b[39m(n\u001b[38;5;241m/\u001b[39m\u001b[38;5;241m/\u001b[39m\u001b[38;5;241m2\u001b[39m) \u001b[38;5;241m+\u001b[39m [\u001b[38;5;124m'\u001b[39m\u001b[38;5;124m1\u001b[39m\u001b[38;5;124m'\u001b[39m]\u001b[38;5;241m*\u001b[39m(n\u001b[38;5;241m/\u001b[39m\u001b[38;5;241m/\u001b[39m\u001b[38;5;241m2\u001b[39m)\n\u001b[0;32m---> 16\u001b[0m \u001b[38;5;28;01mfor\u001b[39;00m new_index \u001b[38;5;129;01min\u001b[39;00m \u001b[38;5;28mset\u001b[39m(itertools\u001b[38;5;241m.\u001b[39mpermutations(base_index)):\n\u001b[1;32m     17\u001b[0m     new_index \u001b[38;5;241m=\u001b[39m \u001b[38;5;28mint\u001b[39m(\u001b[38;5;124m'\u001b[39m\u001b[38;5;124m'\u001b[39m\u001b[38;5;241m.\u001b[39mjoin(new_index), \u001b[38;5;241m2\u001b[39m)\n\u001b[1;32m     18\u001b[0m     zz[\u001b[38;5;241m0\u001b[39m, new_index] \u001b[38;5;241m=\u001b[39m numpy\u001b[38;5;241m.\u001b[39mrandom\u001b[38;5;241m.\u001b[39mnormal(scale\u001b[38;5;241m=\u001b[39mscale)\n",
      "\u001b[0;31mKeyboardInterrupt\u001b[0m: "
     ]
    }
   ],
   "source": [
    "Ls = [2,4,6,8,10]\n",
    "iter_range=(1,20,1)\n",
    "s_iters, data = get_mean_sqr_for_Ls(Ls, iter_range=iter_range, opfn=lambda x: '+-'*(x//2))\n",
    "\n",
    "for L in Ls:\n",
    "    L_data = [data[(L,iters)] for iters in s_iters]\n",
    "    pyplot.plot(s_iters, L_data, 'x--', label='{}'.format(L))\n",
    "pyplot.xscale('log')\n",
    "pyplot.yscale('log')\n",
    "pyplot.grid()\n",
    "pyplot.legend()\n",
    "pyplot.show()"
   ]
  },
  {
   "cell_type": "code",
   "execution_count": null,
   "id": "51c15db6",
   "metadata": {},
   "outputs": [],
   "source": [
    "for iters in s_iters:\n",
    "    L_data = [data[(L,iters)] for L in Ls]\n",
    "    pyplot.plot(Ls, L_data, 'x--', label='{}'.format(iters))\n",
    "pyplot.xscale('log')\n",
    "pyplot.yscale('log')\n",
    "pyplot.grid()\n",
    "pyplot.legend()\n",
    "pyplot.show()"
   ]
  },
  {
   "cell_type": "code",
   "execution_count": null,
   "id": "674ac2b5",
   "metadata": {},
   "outputs": [],
   "source": []
  }
 ],
 "metadata": {
  "kernelspec": {
   "display_name": "Python 3 (ipykernel)",
   "language": "python",
   "name": "python3"
  },
  "language_info": {
   "codemirror_mode": {
    "name": "ipython",
    "version": 3
   },
   "file_extension": ".py",
   "mimetype": "text/x-python",
   "name": "python",
   "nbconvert_exporter": "python",
   "pygments_lexer": "ipython3",
   "version": "3.11.2"
  }
 },
 "nbformat": 4,
 "nbformat_minor": 5
}
