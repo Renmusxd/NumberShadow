{
 "cells": [
  {
   "cell_type": "code",
   "execution_count": 1,
   "id": "c60e22fb",
   "metadata": {},
   "outputs": [],
   "source": [
    "import numpy\n",
    "import itertools\n",
    "from matplotlib import pyplot\n",
    "import scipy.sparse\n",
    "import scipy.special\n",
    "from tqdm.notebook import tqdm\n",
    "import functools"
   ]
  },
  {
   "cell_type": "code",
   "execution_count": 2,
   "id": "ba55ea02",
   "metadata": {},
   "outputs": [],
   "source": [
    "import qutip as qt"
   ]
  },
  {
   "cell_type": "code",
   "execution_count": 3,
   "id": "902ed668",
   "metadata": {},
   "outputs": [],
   "source": [
    "def gen_pairings(n, v=None):\n",
    "    if v is None:\n",
    "        v = list(range(n))\n",
    "    if len(v) == 0:\n",
    "        yield []\n",
    "    else:\n",
    "        a = v[0]\n",
    "        for b in v[1:]:\n",
    "            subv = v.copy()\n",
    "            subv.remove(a)\n",
    "            subv.remove(b)\n",
    "            for subgen in gen_pairings(n,v=subv):\n",
    "                yield [a,b] + subgen\n",
    "\n",
    "def make_perms(n):\n",
    "    return itertools.permutations(numpy.arange(n))\n",
    "\n",
    "def make_canonical_perm(perm):\n",
    "    ll = []\n",
    "    for i in range(len(perm)//2):\n",
    "        ll.append(min(perm[2*i], perm[2*i+1]))\n",
    "        ll.append(max(perm[2*i], perm[2*i+1]))\n",
    "    return tuple(ll)\n",
    "    \n",
    "def make_pairing_perms(n):\n",
    "    return set(map(make_canonical_perm, make_perms(n)))\n",
    "\n",
    "def make_mat_from_perm(perm):\n",
    "    n = len(perm)\n",
    "    D = 2**n\n",
    "    mat = numpy.zeros((D,D))\n",
    "    for i in range(D):\n",
    "        localstate = bin(i)[2:].zfill(n)\n",
    "        newlocal = ''.join(permutate_by_perm(perm, localstate))\n",
    "        newindex = int(newlocal,2)        \n",
    "        mat[newindex,i] = 1\n",
    "    return scipy.sparse.csc_matrix(mat)\n",
    "        \n",
    "def get_local_state(index, n):\n",
    "    state = []\n",
    "    for _ in range(n):\n",
    "        state.append(index % 2)\n",
    "        index >>= 1\n",
    "    return tuple(reversed(state))\n",
    "\n",
    "def get_index_from_state(state):\n",
    "    state = list(state)\n",
    "    index = 0\n",
    "    for i in state:\n",
    "        index <<= 1\n",
    "        index += i\n",
    "    return index\n",
    "\n",
    "def permutate_by_perm(perm, localstate):\n",
    "    return tuple(localstate[i] for i in perm)\n",
    "\n",
    "def dagger(x):\n",
    "    return numpy.conjugate(x.T)\n",
    "\n",
    "\n",
    "def yield_from_until(list_of_things, count=0, join_fn=None):\n",
    "    if join_fn is None:\n",
    "        join_fn = lambda a,b: a+b\n",
    "    if count == 0:\n",
    "        yield from list_of_things\n",
    "    else:\n",
    "        for a in yield_from_until(list_of_things, count=count-1, join_fn=join_fn):\n",
    "            for b in list_of_things:\n",
    "                yield join_fn(a,b)"
   ]
  },
  {
   "cell_type": "code",
   "execution_count": 4,
   "id": "27217113",
   "metadata": {},
   "outputs": [
    {
     "data": {
      "text/plain": [
       "matrix([[1., 0., 0., 0.],\n",
       "        [0., 0., 1., 0.],\n",
       "        [0., 1., 0., 0.],\n",
       "        [0., 0., 0., 1.]])"
      ]
     },
     "execution_count": 4,
     "metadata": {},
     "output_type": "execute_result"
    }
   ],
   "source": [
    "make_mat_from_perm((1,0)).todense()"
   ]
  },
  {
   "cell_type": "markdown",
   "id": "dd257800",
   "metadata": {},
   "source": [
    "How to invert the channel:\n",
    "\n",
    "Note that the inverse channel is self adjoint and therefore\n",
    "$$\\langle O \\rangle = \\mathbb{E}\\left\\{ \\text{Tr}[O M^{-1}(U^\\dagger |b\\rangle\\langle b| U)]\\right\\} = \\mathbb{E}\\left\\{ \\text{Tr}[M^{-1}(O) U^\\dagger |b\\rangle\\langle b| U]\\right\\}$$\n",
    "\n",
    "Decompose $O = \\sum_{s} c_s O_s$ with $s$ the support string, therefore $O_s = \\bigotimes_i P_i$ with $P_i \\ne \\mathbb{1}$. \n",
    "Let $M^{-1}_s$ be the partial inverse for qubits $s$.\n",
    "\n",
    "$$\\langle O \\rangle = \\mathbb{E}\\left\\{ \\sum_s c_s \\text{Tr}[M^{-1}_s(O_s) U^\\dagger |b\\rangle\\langle b| U]\\right\\}$$\n",
    "\n",
    "Since $M^{-1}_s$ is acting on an operator with no $\\mathbb{1}$ in it it's diagonal."
   ]
  },
  {
   "cell_type": "markdown",
   "id": "e157f68d",
   "metadata": {},
   "source": [
    "We start by making a table of the permutation and clifford gate used"
   ]
  },
  {
   "cell_type": "markdown",
   "id": "9343609a",
   "metadata": {},
   "source": [
    "All clifford group elements can be contructed:\n",
    "\n",
    "$$\\mathcal{C} = \\{ \\omega^{i} E^{j} X^{k} S^{l} ~:~ i\\in range(8),~j\\in range(2),~k\\in range(3),~l\\in range(4) \\}$$\n",
    "\n",
    "with $\\omega = e^{\\frac{2\\pi i}{8}}$ and $E = \\omega^3 H S^3$\n",
    "\n",
    "We use a package that does this for is, then just transplant the clifford into the 2x2 central block of the number conserving 2-body unitaries."
   ]
  },
  {
   "cell_type": "code",
   "execution_count": 5,
   "id": "52c20623",
   "metadata": {},
   "outputs": [
    {
     "name": "stderr",
     "output_type": "stream",
     "text": [
      "/var/folders/xx/cyn56y8j4l198w4cbbcv3pp80000gn/T/ipykernel_66138/633097405.py:1: DeprecationWarning: Importing functions/classes of the qip submodule directly from the namespace qutip is deprecated. Please import them from the submodule instead, e.g.\n",
      "from qutip.qip.operations import cnot\n",
      "from qutip.qip.circuit import QubitCircuit\n",
      "\n",
      "  cliffords = list(qt.qubit_clifford_group())\n"
     ]
    }
   ],
   "source": [
    "cliffords = list(qt.qubit_clifford_group())"
   ]
  },
  {
   "cell_type": "code",
   "execution_count": 6,
   "id": "6f5fb8b6",
   "metadata": {},
   "outputs": [
    {
     "data": {
      "text/plain": [
       "24"
      ]
     },
     "execution_count": 6,
     "metadata": {},
     "output_type": "execute_result"
    }
   ],
   "source": [
    "def f(x):\n",
    "    y = numpy.eye(4, dtype=numpy.complex128)\n",
    "    y[1:3,1:3] = x\n",
    "    return y\n",
    "mats = {i:m.__array__() for i,m in enumerate(cliffords)}\n",
    "nmats = {\n",
    "    k: f(v) for k,v in mats.items()\n",
    "}\n",
    "len(nmats)"
   ]
  },
  {
   "cell_type": "code",
   "execution_count": 7,
   "id": "5d0e305d",
   "metadata": {},
   "outputs": [],
   "source": [
    "def kron_helper(*args):\n",
    "    a = args[0]\n",
    "    for c in args[1:]:\n",
    "        a = scipy.sparse.kron(a, c)\n",
    "    return a\n",
    "\n",
    "def gen_measurements(N, pair_mat_names, true_rho, name_to_mat_fn, iters=1000):\n",
    "    for i in range(iters):\n",
    "        perm = numpy.random.permutation(N)\n",
    "        permmat = make_mat_from_perm(perm)\n",
    "        channel_mat_names = numpy.random.choice(pair_mat_names, size=N//2)\n",
    "        channel_mats = [scipy.sparse.csr_matrix(name_to_mat_fn(mat_name)) \n",
    "                        for mat_name in channel_mat_names]\n",
    "        channel = kron_helper(*channel_mats) @ permmat\n",
    "        channel_rho = channel @ true_rho @ channel.conjugate().T\n",
    "        diag = numpy.diag(channel_rho)\n",
    "        measurement = numpy.random.choice(numpy.arange(len(diag)), 1, p=diag.real)\n",
    "        yield (perm, channel_mat_names, measurement[0])"
   ]
  },
  {
   "cell_type": "code",
   "execution_count": 8,
   "id": "d3e749c3",
   "metadata": {
    "scrolled": true
   },
   "outputs": [],
   "source": [
    "# (01 + 10)00\n",
    "\n",
    "zz = numpy.array([[0,1,1,0]])/numpy.sqrt(2)\n",
    "\n",
    "zz = numpy.kron(zz, numpy.array([1,0,0,0]))\n",
    "rho = zz.T @ zz\n",
    "gen_meas = list(gen_measurements(4, list(nmats.keys()), rho, lambda x: nmats[x], iters=1000))"
   ]
  },
  {
   "cell_type": "code",
   "execution_count": 9,
   "id": "a870204e",
   "metadata": {},
   "outputs": [],
   "source": [
    "ops = {\n",
    "    'I': numpy.eye(2),\n",
    "    'Z': numpy.array([[1,0],[0,-1]]),\n",
    "    '+': numpy.array([[0,1],[0,0]]),\n",
    "    '-': numpy.array([[0,0],[1,0]]),\n",
    "}\n",
    "# basis = {\n",
    "#     k: numpy.kron(ops[k[0]], ops[k[1]]) \n",
    "#     for k in ['II', 'ZZ', '+-', '-+', 'IZ', 'ZI']\n",
    "# }\n",
    "\n",
    "class Operator:\n",
    "    def __init__(self, coefs, pauli_strings, use_ops=None):\n",
    "        if use_ops is None:\n",
    "            self.ops = ops.copy()\n",
    "        else:\n",
    "            self.ops = use_ops\n",
    "        self.coefs = coefs\n",
    "        self.pauli_strings = pauli_strings\n",
    "        self.N = max(map(lambda x: len(x), self.pauli_strings))\n",
    "    def make_mat(self, indices=None):\n",
    "        if indices is None:\n",
    "            indices = numpy.arange(self.N)\n",
    "        acc = None\n",
    "        for c,ps in zip(self.coefs, self.pauli_strings):\n",
    "            paulis = (scipy.sparse.csr_matrix(self.ops[ps[i]]) for i in indices)\n",
    "            mat = kron_helper(*paulis)\n",
    "            if acc is None:\n",
    "                acc = c*mat\n",
    "            else:\n",
    "                acc += c * mat\n",
    "        return acc\n",
    "    def expectation(self, rho):\n",
    "        mat = self.make_mat()\n",
    "        return (mat @ rho).trace()\n",
    "    def coefs_and_strings(self):\n",
    "        for c,p in zip(self.coefs, self.pauli_strings):\n",
    "            yield (c,p)"
   ]
  },
  {
   "cell_type": "code",
   "execution_count": 10,
   "id": "9ebc66cd",
   "metadata": {},
   "outputs": [],
   "source": [
    "op = Operator([1.0], ['ZZII'])"
   ]
  },
  {
   "cell_type": "code",
   "execution_count": 11,
   "id": "465b6f01",
   "metadata": {},
   "outputs": [
    {
     "data": {
      "text/plain": [
       "-0.9999999999999998"
      ]
     },
     "execution_count": 11,
     "metadata": {},
     "output_type": "execute_result"
    }
   ],
   "source": [
    "op.expectation(rho)"
   ]
  },
  {
   "cell_type": "code",
   "execution_count": 12,
   "id": "ff737dab",
   "metadata": {},
   "outputs": [
    {
     "data": {
      "text/plain": [
       "matrix([[ 1.+0.j,  0.+0.j,  0.+0.j,  0.+0.j],\n",
       "        [ 0.+0.j,  1.+0.j,  0.+0.j,  0.+0.j],\n",
       "        [ 0.+0.j,  0.+0.j, -1.+0.j,  0.+0.j],\n",
       "        [ 0.+0.j,  0.+0.j,  0.+0.j,  1.+0.j]])"
      ]
     },
     "execution_count": 12,
     "metadata": {},
     "output_type": "execute_result"
    }
   ],
   "source": [
    "clifford_op = Operator([1.0], [[2]], use_ops=nmats)\n",
    "clifford_op.make_mat().todense()"
   ]
  },
  {
   "cell_type": "code",
   "execution_count": 13,
   "id": "bf34c355",
   "metadata": {},
   "outputs": [],
   "source": [
    "def channel_weight(pauli_string):\n",
    "    L = len(pauli_string)\n",
    "    counts = {k: pauli_string.count(k) for k in ops.keys()}\n",
    "    if counts['+'] != counts['-']:\n",
    "        return 0\n",
    "    if counts['Z'] > 0 and counts['I'] > 0:\n",
    "        raise NotImplementedError()\n",
    "    else:\n",
    "        if counts['+'] == counts['-'] == 0:\n",
    "            return 1.0\n",
    "        # Mix of +- and (I or Z)\n",
    "        pm = 2*counts['+']\n",
    "        prefactor = (1.0/3.0)**counts['+']\n",
    "        places_for_pluses = scipy.special.factorial2(L)/scipy.special.factorial2(L-2*counts['+'])\n",
    "        places_for_minuses = scipy.special.factorial(counts['-'])\n",
    "        places_for_rest = scipy.special.factorial(L-pm)\n",
    "        return prefactor * (places_for_pluses * places_for_minuses * places_for_rest / scipy.special.factorial(L))"
   ]
  },
  {
   "cell_type": "code",
   "execution_count": 14,
   "id": "50cb9b4d",
   "metadata": {},
   "outputs": [
    {
     "data": {
      "text/plain": [
       "0.014814814814814812"
      ]
     },
     "execution_count": 14,
     "metadata": {},
     "output_type": "execute_result"
    }
   ],
   "source": [
    "channel_weight('+-+-+-')"
   ]
  },
  {
   "cell_type": "code",
   "execution_count": 15,
   "id": "31aa81cb",
   "metadata": {},
   "outputs": [
    {
     "data": {
      "text/plain": [
       "67.50000000000001"
      ]
     },
     "execution_count": 15,
     "metadata": {},
     "output_type": "execute_result"
    }
   ],
   "source": [
    "1/channel_weight('+-+-+-')"
   ]
  },
  {
   "cell_type": "code",
   "execution_count": 16,
   "id": "805aa67c",
   "metadata": {},
   "outputs": [],
   "source": [
    "def filter_measurements(measurements, indices):\n",
    "    for perm, mats, mes in measurements:\n",
    "        all_true = True\n",
    "        for i in range(len(perm)//2):\n",
    "            sia = perm[2*i]\n",
    "            sib = perm[2*i+1]\n",
    "            sia_in = sia in indices \n",
    "            sib_in = sib in indices\n",
    "            if sia_in != sib_in:\n",
    "                all_true = False\n",
    "                break\n",
    "        if all_true:\n",
    "            yield perm, mats, mes\n",
    "\n",
    "def estimate_op(op, measurements, verbose=False):\n",
    "    acc = 0.0\n",
    "    for c, ps in op.coefs_and_strings():\n",
    "        indices = [i for i in range(len(ps)) if ps[i] != 'I']\n",
    "        indices_lookup = {v:k for k,v in enumerate(indices)}\n",
    "        index_set = set(indices)\n",
    "        substring = \"\".join([ps[i] for i in indices])\n",
    "        cw = channel_weight(substring)\n",
    "        if cw == 0.0:\n",
    "            continue\n",
    "        i = 0\n",
    "        string_acc = 0.0\n",
    "        for perm, mats, meas in filter_measurements(measurements, index_set):\n",
    "            i += 1\n",
    "            measbits = bin(meas)[2:].zfill(len(perm))\n",
    "            if verbose:                \n",
    "                permuted_string = ''.join(ps[i] for i in perm_inv)\n",
    "                print(permuted_string, measbits)\n",
    "            sub_acc = 1.0\n",
    "            for pair_index in range(len(perm)//2):\n",
    "                clifford_mat = mats[pair_index]\n",
    "                pauli_a = ps[perm[2*pair_index]]\n",
    "                pauli_b = ps[perm[2*pair_index+1]]\n",
    "        \n",
    "                # Assert not Z/I mixing\n",
    "                assert (pauli_a == 'I') == (pauli_b == 'I')\n",
    "                # Calculate <b(2i) b(2i+1)| C_i P_(s(2i)) P_(s(2i+1)) C_i^\\dagger | b(2i) b(2i+1) >\n",
    "                subop = Operator([1.0], [pauli_a + pauli_b]).make_mat()\n",
    "                uppu = nmats[clifford_mat] @ subop @ dagger(nmats[clifford_mat])\n",
    "\n",
    "                bita = measbits[2*pair_index]\n",
    "                bitb = measbits[2*pair_index+1]\n",
    "                submeas = int(bita + bitb, 2)\n",
    "                braket = uppu[submeas, submeas]\n",
    "                if verbose:\n",
    "                    print(\"Calculating: <{0}|({1})({2}{3})({1})^(-1)|{0}> \\t = {4}\".format(bita+bitb,clifford_mat, pauli_a, pauli_b, braket))\n",
    "                \n",
    "                if pauli_a == 'I' and pauli_b == 'I':\n",
    "                    assert numpy.allclose(braket, 1.0)\n",
    "                sub_acc *= braket\n",
    "            string_acc += sub_acc/cw\n",
    "        acc += c * string_acc / float(i)\n",
    "    return acc"
   ]
  },
  {
   "cell_type": "markdown",
   "id": "c35b5bb5",
   "metadata": {},
   "source": [
    "Recall $$\\rho = (|0100\\rangle + |1000\\rangle)(\\langle0100| + \\langle1000|))$$"
   ]
  },
  {
   "cell_type": "code",
   "execution_count": 17,
   "id": "04c8b86a",
   "metadata": {},
   "outputs": [
    {
     "data": {
      "image/png": "[encoded data removed]",
      "text/plain": [
       "<Figure size 640x480 with 1 Axes>"
      ]
     },
     "metadata": {},
     "output_type": "display_data"
    }
   ],
   "source": [
    "pyplot.imshow(rho)\n",
    "pyplot.show()"
   ]
  },
  {
   "cell_type": "code",
   "execution_count": 18,
   "id": "bd82cc81",
   "metadata": {
    "scrolled": true
   },
   "outputs": [
    {
     "name": "stdout",
     "output_type": "stream",
     "text": [
      "(-0.9999999999999999+0j) -0.9999999999999998\n"
     ]
    }
   ],
   "source": [
    "op = Operator([1.0], ['ZZII'])\n",
    "estimate = estimate_op(op, gen_meas)\n",
    "print(estimate, op.expectation(rho))"
   ]
  },
  {
   "cell_type": "code",
   "execution_count": 19,
   "id": "65edf5ab",
   "metadata": {},
   "outputs": [
    {
     "name": "stdout",
     "output_type": "stream",
     "text": [
      "(0.047337278106508875-2.023935846882681e-33j) 0.0\n"
     ]
    }
   ],
   "source": [
    "op = Operator([1.0], ['ZIZI'])\n",
    "estimate = estimate_op(op, gen_meas)\n",
    "print(estimate, op.expectation(rho))"
   ]
  },
  {
   "cell_type": "code",
   "execution_count": 20,
   "id": "6e6a815d",
   "metadata": {},
   "outputs": [
    {
     "name": "stdout",
     "output_type": "stream",
     "text": [
      "(0.5230547550432275+0.0043227665706051825j) 0.4999999999999999\n"
     ]
    }
   ],
   "source": [
    "op = Operator([1.0], ['+-II'])\n",
    "estimate = estimate_op(op, gen_meas)\n",
    "print(estimate, op.expectation(rho))"
   ]
  },
  {
   "cell_type": "code",
   "execution_count": 21,
   "id": "b4c5b8a7",
   "metadata": {},
   "outputs": [
    {
     "name": "stdout",
     "output_type": "stream",
     "text": [
      "(-0.4763313609467455-1.0119679234413405e-33j) -0.4999999999999999\n"
     ]
    }
   ],
   "source": [
    "op = Operator([0.5, 0.5], ['ZZII', 'ZIZI'])\n",
    "estimate = estimate_op(op, gen_meas)\n",
    "print(estimate, op.expectation(rho))"
   ]
  },
  {
   "cell_type": "code",
   "execution_count": 22,
   "id": "ccaae0ea",
   "metadata": {},
   "outputs": [
    {
     "name": "stdout",
     "output_type": "stream",
     "text": [
      "(0.5444999999999999-0.004500000000000001j) 0.4999999999999999\n"
     ]
    }
   ],
   "source": [
    "op = Operator([1.0], ['-+ZZ'])\n",
    "estimate = estimate_op(op, gen_meas)\n",
    "print(estimate, op.expectation(rho))"
   ]
  },
  {
   "cell_type": "code",
   "execution_count": 23,
   "id": "1600b850",
   "metadata": {},
   "outputs": [
    {
     "name": "stdout",
     "output_type": "stream",
     "text": [
      "(-0.05399999999999999-0.009000000000000001j) 0.0\n"
     ]
    }
   ],
   "source": [
    "op = Operator([1.0], ['+Z-Z'])\n",
    "estimate = estimate_op(op, gen_meas)\n",
    "print(estimate, op.expectation(rho))"
   ]
  },
  {
   "cell_type": "code",
   "execution_count": 24,
   "id": "97ed9f8b",
   "metadata": {},
   "outputs": [
    {
     "name": "stdout",
     "output_type": "stream",
     "text": [
      "0j 0.0\n"
     ]
    }
   ],
   "source": [
    "op = Operator([1.0], ['++--'])\n",
    "estimate = estimate_op(op, gen_meas)\n",
    "print(estimate, op.expectation(rho))"
   ]
  },
  {
   "cell_type": "code",
   "execution_count": 25,
   "id": "028db89f",
   "metadata": {},
   "outputs": [
    {
     "name": "stdout",
     "output_type": "stream",
     "text": [
      "(-1-1.2572470676959877e-33j) -0.9999999999999998\n"
     ]
    }
   ],
   "source": [
    "op = Operator([1.0], ['ZZZZ'])\n",
    "estimate = estimate_op(op, gen_meas)\n",
    "print(estimate, op.expectation(rho))"
   ]
  },
  {
   "cell_type": "markdown",
   "id": "93ce9a77",
   "metadata": {},
   "source": [
    "# Test against new lib"
   ]
  },
  {
   "cell_type": "code",
   "execution_count": 26,
   "id": "c44cbc24",
   "metadata": {},
   "outputs": [
    {
     "name": "stderr",
     "output_type": "stream",
     "text": [
      "/var/folders/xx/cyn56y8j4l198w4cbbcv3pp80000gn/T/ipykernel_66138/3929011593.py:5: DeprecationWarning: Importing functions/classes of the qip submodule directly from the namespace qutip is deprecated. Please import them from the submodule instead, e.g.\n",
      "from qutip.qip.operations import cnot\n",
      "from qutip.qip.circuit import QubitCircuit\n",
      "\n",
      "  yield from qt.qubit_clifford_group()\n"
     ]
    }
   ],
   "source": [
    "import shadow_reconstruction\n",
    "\n",
    "\n",
    "def gen_cliffords():\n",
    "    yield from qt.qubit_clifford_group()\n",
    "\n",
    "\n",
    "def get_num_cons_cliffords():\n",
    "    def f(x):\n",
    "        y = numpy.eye(4, dtype=numpy.complex128)\n",
    "        y[1:3, 1:3] = x\n",
    "        return y\n",
    "    return {\n",
    "        k: f(v.__array__()) for k, v in enumerate(gen_cliffords())\n",
    "    }\n",
    "cliffords = numpy.array(list(get_num_cons_cliffords().values()))"
   ]
  },
  {
   "cell_type": "code",
   "execution_count": 27,
   "id": "b40742b1",
   "metadata": {},
   "outputs": [],
   "source": [
    "recon = shadow_reconstruction.Reconstruction(4, ops=cliffords)"
   ]
  },
  {
   "cell_type": "code",
   "execution_count": 28,
   "id": "dfd60143",
   "metadata": {},
   "outputs": [],
   "source": [
    "samples = shadow_reconstruction.Samples()\n",
    "\n",
    "for (perm, mats, meas) in gen_meas:\n",
    "    sample = shadow_reconstruction.Sample(mats, perm, meas)\n",
    "    samples.add_sample(sample)"
   ]
  },
  {
   "cell_type": "code",
   "execution_count": 29,
   "id": "748c1c10",
   "metadata": {},
   "outputs": [
    {
     "data": {
      "text/plain": [
       "(0.5230547550432275-0.004322766570605189j)"
      ]
     },
     "execution_count": 29,
     "metadata": {},
     "output_type": "execute_result"
    }
   ],
   "source": [
    "recon.estimate_operator_string('+-II', samples)"
   ]
  },
  {
   "cell_type": "code",
   "execution_count": 30,
   "id": "40e7c106",
   "metadata": {},
   "outputs": [
    {
     "data": {
      "text/plain": [
       "(0.04285714285714285-0.014285714285714282j)"
      ]
     },
     "execution_count": 30,
     "metadata": {},
     "output_type": "execute_result"
    }
   ],
   "source": [
    "recon.estimate_operator_string('+II-', samples)"
   ]
  },
  {
   "cell_type": "markdown",
   "id": "b391e781",
   "metadata": {},
   "source": [
    "Now slightly more nontrivial"
   ]
  },
  {
   "cell_type": "code",
   "execution_count": 31,
   "id": "0502157b",
   "metadata": {},
   "outputs": [],
   "source": [
    "L = 4\n",
    "zz = numpy.zeros((1, 1 << L))\n",
    "zz[0, 0b0001] = 1.\n",
    "zz[0, 0b1000] = 1.\n",
    "zz /= numpy.linalg.norm(zz)\n",
    "rho = zz.T @ zz\n",
    "\n",
    "gen_meas = list(gen_measurements(L, list(nmats.keys()), rho, lambda x: nmats[x], iters=10000))"
   ]
  },
  {
   "cell_type": "code",
   "execution_count": 32,
   "id": "2235c041",
   "metadata": {},
   "outputs": [],
   "source": [
    "samples = shadow_reconstruction.Samples()\n",
    "\n",
    "for (perm, mats, meas) in gen_meas:\n",
    "    sample = shadow_reconstruction.Sample(mats, perm, meas)\n",
    "    samples.add_sample(sample)"
   ]
  },
  {
   "cell_type": "code",
   "execution_count": 33,
   "id": "f2e3621a",
   "metadata": {},
   "outputs": [
    {
     "name": "stdout",
     "output_type": "stream",
     "text": [
      "(-1+0j) -0.9999999999999998\n",
      "(0.014692653673163452+0j) 0.0\n"
     ]
    }
   ],
   "source": [
    "opstr = 'ZIIZ'\n",
    "estimate = recon.estimate_operator_string(opstr, samples)\n",
    "print(estimate, Operator([1.], [opstr]).expectation(rho))\n",
    "\n",
    "opstr = 'IIZZ'\n",
    "estimate = recon.estimate_operator_string(opstr, samples)\n",
    "print(estimate, Operator([1.], [opstr]).expectation(rho))"
   ]
  },
  {
   "cell_type": "code",
   "execution_count": 34,
   "id": "52278cc2",
   "metadata": {},
   "outputs": [
    {
     "name": "stdout",
     "output_type": "stream",
     "text": [
      "(0.4904619970193739-0.013412816691505215j) 0.4999999999999999\n"
     ]
    }
   ],
   "source": [
    "opstr = '-II+'\n",
    "estimate = recon.estimate_operator_string(opstr, samples)\n",
    "print(estimate, Operator([1.], [opstr]).expectation(rho))"
   ]
  },
  {
   "cell_type": "markdown",
   "id": "03e4c313",
   "metadata": {},
   "source": [
    "# Check sims"
   ]
  },
  {
   "cell_type": "code",
   "execution_count": 35,
   "id": "d52a99c0",
   "metadata": {},
   "outputs": [],
   "source": [
    "exp = shadow_reconstruction.Experiment(4, ops=cliffords)\n",
    "\n",
    "rhod = shadow_reconstruction.DensityMatrix.from_dense(rho.astype(numpy.complex128))\n",
    "samples = exp.sample(rhod, 1000)\n",
    "gen_meas = []\n",
    "for si in range(samples.num_samples()):\n",
    "    sample = samples.get_sample(si)\n",
    "    mats = sample.get_gates()\n",
    "    perm = sample.get_perm()\n",
    "    meas = sample.get_measurement()\n",
    "    \n",
    "    gen_meas.append((perm, mats, meas))"
   ]
  },
  {
   "cell_type": "code",
   "execution_count": 36,
   "id": "8319dbc4",
   "metadata": {},
   "outputs": [
    {
     "name": "stdout",
     "output_type": "stream",
     "text": [
      "(-1+1.0937112022210332e-33j) -0.9999999999999998\n"
     ]
    }
   ],
   "source": [
    "op = Operator([1.], ['ZIIZ'])\n",
    "estimate = estimate_op(op, gen_meas)\n",
    "print(estimate, op.expectation(rho))"
   ]
  },
  {
   "cell_type": "code",
   "execution_count": 37,
   "id": "a75209a3",
   "metadata": {},
   "outputs": [
    {
     "name": "stdout",
     "output_type": "stream",
     "text": [
      "(0.4774647887323943-0.02535211267605634j) 0.4999999999999999\n"
     ]
    }
   ],
   "source": [
    "op = Operator([1.], ['-II+'])\n",
    "estimate = estimate_op(op, gen_meas)\n",
    "print(estimate, op.expectation(rho))"
   ]
  },
  {
   "cell_type": "markdown",
   "id": "f3c96811",
   "metadata": {},
   "source": [
    "# Check perms"
   ]
  },
  {
   "cell_type": "code",
   "execution_count": 38,
   "id": "ebd41a45",
   "metadata": {},
   "outputs": [],
   "source": [
    "for perm in make_perms(4):\n",
    "    assert (shadow_reconstruction.Experiment.make_perm_mat(perm).todense() == make_mat_from_perm(perm)).all(), \"Failed for \"+str(perm)"
   ]
  },
  {
   "cell_type": "code",
   "execution_count": 39,
   "id": "b079f0d5",
   "metadata": {},
   "outputs": [
    {
     "data": {
      "image/png": "[encoded data removed]",
      "text/plain": [
       "<Figure size 640x480 with 1 Axes>"
      ]
     },
     "metadata": {},
     "output_type": "display_data"
    },
    {
     "data": {
      "image/png": "[encoded data removed]",
      "text/plain": [
       "<Figure size 640x480 with 1 Axes>"
      ]
     },
     "metadata": {},
     "output_type": "display_data"
    }
   ],
   "source": [
    "pyplot.imshow(shadow_reconstruction.Experiment.make_perm_mat([0,2,3,1]).todense())\n",
    "pyplot.show()\n",
    "\n",
    "pyplot.imshow(make_mat_from_perm([0,2,3,1]).todense())\n",
    "pyplot.show()"
   ]
  },
  {
   "cell_type": "code",
   "execution_count": null,
   "id": "5f1a4bcd",
   "metadata": {},
   "outputs": [],
   "source": []
  }
 ],
 "metadata": {
  "kernelspec": {
   "display_name": "Python 3 (ipykernel)",
   "language": "python",
   "name": "python3"
  },
  "language_info": {
   "codemirror_mode": {
    "name": "ipython",
    "version": 3
   },
   "file_extension": ".py",
   "mimetype": "text/x-python",
   "name": "python",
   "nbconvert_exporter": "python",
   "pygments_lexer": "ipython3",
   "version": "3.11.2"
  }
 },
 "nbformat": 4,
 "nbformat_minor": 5
}
