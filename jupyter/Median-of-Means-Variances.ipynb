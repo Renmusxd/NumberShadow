{
 "cells": [
  {
   "cell_type": "code",
   "execution_count": 1,
   "id": "86598406-adbc-4bc6-af2c-5dcd68618cd7",
   "metadata": {},
   "outputs": [],
   "source": [
    "import numpy\n",
    "import scipy.sparse\n",
    "from matplotlib import pyplot\n",
    "import os\n",
    "import pickle\n",
    "from tqdm.notebook import tqdm\n",
    "import qubit_matmul\n",
    "import shadow_reconstruction\n",
    "\n",
    "pyplot.rcParams.update({\n",
    "    \"text.usetex\": True,\n",
    "    \"font.family\": \"Helvetica\"\n",
    "})"
   ]
  },
  {
   "cell_type": "markdown",
   "id": "9c3f78f9-52dd-4289-b1b4-4ec103108484",
   "metadata": {},
   "source": [
    "# Load data"
   ]
  },
  {
   "cell_type": "code",
   "execution_count": 2,
   "id": "35473efb-0a21-45be-b1ea-80f87fc91c37",
   "metadata": {},
   "outputs": [],
   "source": [
    "base_dirs = {\n",
    "    \"/home/sumner/Desktop/NumConsShadows/ladder_single_condensed_L24_M6_open\": (24, 6, -0.5),\n",
    "    \"/home/sumner/Desktop/NumConsShadows/ladder_very_single_condensed_L24_M6_open\": (24, 6, -2.0),\n",
    "    \"/home/sumner/Desktop/NumConsShadows/ladder_pair_condensed_L24_M6_open\": (24, 6, -0.05),\n",
    "}"
   ]
  },
  {
   "cell_type": "code",
   "execution_count": 3,
   "id": "94eee333-cdc4-4656-aad3-541e43e1f25f",
   "metadata": {},
   "outputs": [
    {
     "name": "stdout",
     "output_type": "stream",
     "text": [
      "Samples: 8000000\n",
      "Samples: 8000000\n",
      "Samples: 8000000\n"
     ]
    }
   ],
   "source": [
    "data = {}\n",
    "\n",
    "for k, (l, m, j) in base_dirs.items():\n",
    "    gs = None\n",
    "    all_samples = []\n",
    "    for bb, _, ff in os.walk(k):\n",
    "        for f in ff:\n",
    "            filename = os.path.join(bb,f)\n",
    "            if f.endswith('.data'):\n",
    "                samples = shadow_reconstruction.Samples.load_from(filename)\n",
    "                all_samples.append(samples)\n",
    "            elif gs is None and f.endswith(\".npz\"):\n",
    "                gs = numpy.load(filename)['gs']\n",
    "    acc = all_samples[0]\n",
    "    for s in all_samples[1:]:\n",
    "        acc.add_from(s)\n",
    "    # acc = acc.subset(100_000)\n",
    "    print(\"Samples: {}\".format(acc.num_samples()))\n",
    "    data[k] = (l,j,m,acc,gs)"
   ]
  },
  {
   "cell_type": "markdown",
   "id": "3ad6f702-d5c3-4ec1-8bcc-9ac13ab74930",
   "metadata": {},
   "source": [
    "# Set parameters"
   ]
  },
  {
   "cell_type": "code",
   "execution_count": 4,
   "id": "87e10e96-0163-436a-862b-084f57c54a3f",
   "metadata": {},
   "outputs": [],
   "source": [
    "n_subsamples = 20_000\n",
    "n_trials = 1000\n",
    "dt = 1e-6"
   ]
  },
  {
   "cell_type": "code",
   "execution_count": 5,
   "id": "7112c4d6-73ae-482f-8e76-ad2b0e7eca88",
   "metadata": {},
   "outputs": [],
   "source": [
    "single_data = data[\"/home/sumner/Desktop/NumConsShadows/ladder_pair_condensed_L24_M6_open\"]"
   ]
  },
  {
   "cell_type": "markdown",
   "id": "0681d064-ae4f-4471-8885-1b04063533b5",
   "metadata": {},
   "source": [
    "# Shadow distribution"
   ]
  },
  {
   "cell_type": "code",
   "execution_count": 6,
   "id": "3c1f6e23-94df-4471-a65e-56baf1f6aec4",
   "metadata": {},
   "outputs": [
    {
     "data": {
      "text/plain": [
       "((0.22217245312500003+0.0016301250000000035j),\n",
       " (543.3750000000007+0j),\n",
       " (-543.3750000000007+0j))"
      ]
     },
     "execution_count": 6,
     "metadata": {},
     "output_type": "execute_result"
    }
   ],
   "source": [
    "(l,j,m,acc,gs) = single_data\n",
    "subacc = acc.subset(min(n_trials * n_subsamples, acc.num_samples()))\n",
    "\n",
    "recon = shadow_reconstruction.Reconstruction(filtered=False)\n",
    "estimates = recon.estimate_string_for_each_sample('++--' + 'I'*20, subacc)\n",
    "estimates.mean(), estimates.max(), estimates.min()"
   ]
  },
  {
   "cell_type": "code",
   "execution_count": 7,
   "id": "edfa7b38-6aea-4c2b-9e45-c19fbb6d3caf",
   "metadata": {},
   "outputs": [
    {
     "data": {
      "image/png": "[encoded data removed]",
      "text/plain": [
       "<Figure size 640x480 with 1 Axes>"
      ]
     },
     "metadata": {},
     "output_type": "display_data"
    },
    {
     "data": {
      "image/png": "[encoded data removed]",
      "text/plain": [
       "<Figure size 640x480 with 1 Axes>"
      ]
     },
     "metadata": {},
     "output_type": "display_data"
    }
   ],
   "source": [
    "pyplot.hist(estimates.real, bins=100, density=True)\n",
    "pyplot.grid()\n",
    "pyplot.yscale('log')\n",
    "pyplot.show()\n",
    "\n",
    "pyplot.hist(estimates.imag, bins=100, density=True)\n",
    "pyplot.grid()\n",
    "pyplot.yscale('log')\n",
    "pyplot.show()"
   ]
  },
  {
   "cell_type": "markdown",
   "id": "39c7e300-67b0-422e-819c-76a0d2f2cf41",
   "metadata": {},
   "source": [
    "# Analyze Shadows - Look at empirical mean for `n_trials` independent runs\n",
    "In each run, subsample the full data set to `n_subsamples` shadows. Look at the mean of just those."
   ]
  },
  {
   "cell_type": "code",
   "execution_count": 8,
   "id": "02cf4728-6bff-46b9-9313-2558169281d4",
   "metadata": {},
   "outputs": [
    {
     "data": {
      "application/vnd.jupyter.widget-view+json": {
       "model_id": "508cb18649a74341874bf017cd2a6a7a",
       "version_major": 2,
       "version_minor": 0
      },
      "text/plain": [
       "  0%|          | 0/1000 [00:00<?, ?it/s]"
      ]
     },
     "metadata": {},
     "output_type": "display_data"
    }
   ],
   "source": [
    "data_means = []\n",
    "data_vars = []\n",
    "for _ in tqdm(range(n_trials)):\n",
    "    (l,j,m,acc,gs) = single_data\n",
    "    subacc = acc.subset(n_subsamples)\n",
    "    \n",
    "    recon = shadow_reconstruction.Reconstruction(filtered=False)\n",
    "    estimates = recon.estimate_string_for_each_sample('++--' + 'I'*20, subacc)\n",
    "    data_means.append(estimates.mean())\n",
    "    data_vars.append(estimates.var()/len(estimates))\n",
    "data_means = numpy.array(data_means)\n",
    "data_vars = numpy.array(data_vars)"
   ]
  },
  {
   "cell_type": "code",
   "execution_count": 9,
   "id": "d865f0c0-74cf-491a-be9c-25a87b8ac661",
   "metadata": {},
   "outputs": [
    {
     "data": {
      "text/plain": [
       "(0.22014838125000022, 0.11304022641047388, 0.11429570996084687)"
      ]
     },
     "execution_count": 9,
     "metadata": {},
     "output_type": "execute_result"
    }
   ],
   "source": [
    "data_means.mean().real, numpy.sqrt(data_means.var()), numpy.sqrt(data_vars.mean())"
   ]
  },
  {
   "cell_type": "markdown",
   "id": "98a8e3a3-36eb-4e2f-9678-fc6183165748",
   "metadata": {},
   "source": [
    "Notice that the std of the means is close to the sqrt of the average variance."
   ]
  },
  {
   "cell_type": "markdown",
   "id": "98a2a230-29ad-4e4c-96ca-c7f2ca022872",
   "metadata": {},
   "source": [
    "# Analyze Shadows - Look at median of means for `n_trials` independent runs\n",
    "In each run, subsample the full data set to `n_subsamples` shadows. Look at the median of `k` means of just those.\n",
    "\n",
    "First take `k=4` then take `k=10`"
   ]
  },
  {
   "cell_type": "code",
   "execution_count": 10,
   "id": "c2b33635-4907-422c-b4bd-a3a87ad9051a",
   "metadata": {},
   "outputs": [
    {
     "data": {
      "text/plain": [
       "(49.5, 49.5)"
      ]
     },
     "execution_count": 10,
     "metadata": {},
     "output_type": "execute_result"
    }
   ],
   "source": [
    "def median_of_means(data, k=4):\n",
    "    arrs = numpy.split(data, k)\n",
    "    means = [numpy.mean(arr) for arr in arrs]\n",
    "    return numpy.median(means)\n",
    "median_of_means(numpy.arange(100)), numpy.arange(100).mean()"
   ]
  },
  {
   "cell_type": "code",
   "execution_count": 11,
   "id": "0169a379-07da-40d3-85ba-1ea0d9f6bd0c",
   "metadata": {},
   "outputs": [
    {
     "data": {
      "application/vnd.jupyter.widget-view+json": {
       "model_id": "62b86fd145bd4a32b1c7278e95d4a231",
       "version_major": 2,
       "version_minor": 0
      },
      "text/plain": [
       "  0%|          | 0/1000 [00:00<?, ?it/s]"
      ]
     },
     "metadata": {},
     "output_type": "display_data"
    }
   ],
   "source": [
    "data_medians = []\n",
    "for _ in tqdm(range(n_trials)):\n",
    "    (l,j,m,acc,gs) = single_data\n",
    "    subacc = acc.subset(n_subsamples)\n",
    "    \n",
    "    recon = shadow_reconstruction.Reconstruction(filtered=False)\n",
    "    estimates = recon.estimate_string_for_each_sample('++--' + 'I'*20, subacc)\n",
    "    mofm =  median_of_means(estimates)\n",
    "    data_medians.append(mofm)\n",
    "data_medians = numpy.array(data_medians)"
   ]
  },
  {
   "cell_type": "code",
   "execution_count": 12,
   "id": "dc35c9e6-d720-4aa8-80fa-9d34caf9b338",
   "metadata": {},
   "outputs": [
    {
     "data": {
      "text/plain": [
       "(0.21077516250000022, 0.14169976100027826)"
      ]
     },
     "execution_count": 12,
     "metadata": {},
     "output_type": "execute_result"
    }
   ],
   "source": [
    "data_medians.mean().real, numpy.sqrt(data_medians.var())"
   ]
  },
  {
   "cell_type": "code",
   "execution_count": 13,
   "id": "e3638dd9-31b1-4467-8a7c-94391d30da1e",
   "metadata": {},
   "outputs": [
    {
     "data": {
      "application/vnd.jupyter.widget-view+json": {
       "model_id": "27fabc5e49034751acc2dbdafcbbbd5d",
       "version_major": 2,
       "version_minor": 0
      },
      "text/plain": [
       "  0%|          | 0/1000 [00:00<?, ?it/s]"
      ]
     },
     "metadata": {},
     "output_type": "display_data"
    }
   ],
   "source": [
    "data_more_medians = []\n",
    "for _ in tqdm(range(n_trials)):\n",
    "    (l,j,m,acc,gs) = single_data\n",
    "    subacc = acc.subset(n_subsamples)\n",
    "    \n",
    "    recon = shadow_reconstruction.Reconstruction(filtered=False)\n",
    "    estimates = recon.estimate_string_for_each_sample('++--' + 'I'*20, subacc)\n",
    "    mofm =  median_of_means(estimates, k=10)\n",
    "    data_more_medians.append(mofm)\n",
    "data_more_medians = numpy.array(data_more_medians)"
   ]
  },
  {
   "cell_type": "code",
   "execution_count": 14,
   "id": "c2ac21ba-912c-4ea5-a2b5-f57fc451cfdc",
   "metadata": {},
   "outputs": [
    {
     "data": {
      "text/plain": [
       "(0.17958543750000017, 0.23078197994655023)"
      ]
     },
     "execution_count": 14,
     "metadata": {},
     "output_type": "execute_result"
    }
   ],
   "source": [
    "data_more_medians.mean().real, numpy.sqrt(data_more_medians.var())"
   ]
  },
  {
   "cell_type": "markdown",
   "id": "8ea0749e-74d7-40cd-bcb2-b76c01216f36",
   "metadata": {},
   "source": [
    "# Variance looks as larger, histogram shows why"
   ]
  },
  {
   "cell_type": "code",
   "execution_count": 15,
   "id": "0f5ef25b-ec22-4fbd-a32c-ad3d975da6af",
   "metadata": {},
   "outputs": [
    {
     "data": {
      "text/plain": [
       "(0.08053319336273691, 0.08657174576329657, 0.1215263380710736)"
      ]
     },
     "execution_count": 15,
     "metadata": {},
     "output_type": "execute_result"
    }
   ],
   "source": [
    "data_means.real.std(), data_medians.real.std(), data_more_medians.real.std()"
   ]
  },
  {
   "cell_type": "code",
   "execution_count": 19,
   "id": "2ed0e5e6-6520-4a41-bdaa-9a684da9552d",
   "metadata": {},
   "outputs": [
    {
     "data": {
      "text/plain": [
       "(0.07932526428403011, 0.11217912061979768, 0.19619294437640983)"
      ]
     },
     "execution_count": 19,
     "metadata": {},
     "output_type": "execute_result"
    }
   ],
   "source": [
    "data_means.imag.std(), data_medians.imag.std(), data_more_medians.imag.std()"
   ]
  },
  {
   "cell_type": "code",
   "execution_count": 16,
   "id": "ab01039d-e3fb-47a7-a26b-336e9f52c988",
   "metadata": {},
   "outputs": [
    {
     "data": {
      "image/png": "[encoded data removed]",
      "text/plain": [
       "<Figure size 640x480 with 1 Axes>"
      ]
     },
     "metadata": {},
     "output_type": "display_data"
    },
    {
     "data": {
      "image/png": "[encoded data removed]",
      "text/plain": [
       "<Figure size 640x480 with 1 Axes>"
      ]
     },
     "metadata": {},
     "output_type": "display_data"
    }
   ],
   "source": [
    "pyplot.hist(data_means.real, alpha=0.75, bins=100, density=True, label='k=1')\n",
    "pyplot.hist(data_medians.real, alpha=0.75, bins=100, density=True, label='k=4')\n",
    "pyplot.hist(data_more_medians.real, alpha=0.75, bins=100, density=True, label='k=10')\n",
    "pyplot.grid()\n",
    "pyplot.legend()\n",
    "pyplot.show()\n",
    "\n",
    "pyplot.hist(data_means.imag, alpha=0.75, bins=100, density=True)\n",
    "pyplot.hist(data_medians.imag, alpha=0.75, bins=100, density=True)\n",
    "pyplot.hist(data_more_medians.imag, alpha=0.75, bins=100, density=True)\n",
    "pyplot.grid()\n",
    "pyplot.show()"
   ]
  },
  {
   "cell_type": "code",
   "execution_count": null,
   "id": "7a0e5033-a131-44be-8eef-076fd73f4426",
   "metadata": {},
   "outputs": [],
   "source": []
  }
 ],
 "metadata": {
  "kernelspec": {
   "display_name": "Python 3 (ipykernel)",
   "language": "python",
   "name": "python3"
  },
  "language_info": {
   "codemirror_mode": {
    "name": "ipython",
    "version": 3
   },
   "file_extension": ".py",
   "mimetype": "text/x-python",
   "name": "python",
   "nbconvert_exporter": "python",
   "pygments_lexer": "ipython3",
   "version": "3.10.12"
  }
 },
 "nbformat": 4,
 "nbformat_minor": 5
}
